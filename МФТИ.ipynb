{
  "nbformat": 4,
  "nbformat_minor": 0,
  "metadata": {
    "colab": {
      "provenance": []
    },
    "kernelspec": {
      "name": "python3",
      "display_name": "Python 3"
    },
    "language_info": {
      "name": "python"
    }
  },
  "cells": [
    {
      "cell_type": "markdown",
      "source": [
        "Загрузим данные с диска"
      ],
      "metadata": {
        "id": "xoeuAflkeO0b"
      }
    },
    {
      "cell_type": "code",
      "execution_count": null,
      "metadata": {
        "id": "hbdzP35owrK6",
        "colab": {
          "base_uri": "https://localhost:8080/"
        },
        "outputId": "affef35c-0c97-4c34-f2f2-c616854bfd8f"
      },
      "outputs": [
        {
          "output_type": "stream",
          "name": "stdout",
          "text": [
            "Downloading...\n",
            "From: https://drive.google.com/uc?id=1R7tU1I45gpVRiYB3XT8vcPsoOifyrt2P\n",
            "To: /content/МФТИ.zip\n",
            "\r  0% 0.00/118k [00:00<?, ?B/s]\r100% 118k/118k [00:00<00:00, 90.6MB/s]\n"
          ]
        }
      ],
      "source": [
        "!gdown 1R7tU1I45gpVRiYB3XT8vcPsoOifyrt2P"
      ]
    },
    {
      "cell_type": "markdown",
      "source": [
        "Разархивируем"
      ],
      "metadata": {
        "id": "wbI_ZUnveT1-"
      }
    },
    {
      "cell_type": "code",
      "source": [
        "!unzip /content/МФТИ.zip"
      ],
      "metadata": {
        "colab": {
          "base_uri": "https://localhost:8080/"
        },
        "id": "LEVqKa7kNuzc",
        "outputId": "d47eac3c-946b-4e3d-b4f5-549cc6c23fce"
      },
      "execution_count": null,
      "outputs": [
        {
          "output_type": "stream",
          "name": "stdout",
          "text": [
            "Archive:  /content/МФТИ.zip\n",
            "  inflating: submission.csv          \n",
            "  inflating: test.csv                \n",
            "  inflating: train.csv               \n"
          ]
        }
      ]
    },
    {
      "cell_type": "markdown",
      "source": [
        "Выгрузим необходимые библиотеки"
      ],
      "metadata": {
        "id": "KcTItM56eYVI"
      }
    },
    {
      "cell_type": "code",
      "source": [
        "import pandas as pd\n",
        "import numpy as np\n",
        "import seaborn as sns\n",
        "from matplotlib import pyplot as plt\n",
        "from pylab import rcParams\n",
        "from sklearn import preprocessing\n",
        "from sklearn.preprocessing import StandardScaler"
      ],
      "metadata": {
        "id": "FP83mVPxN1GZ"
      },
      "execution_count": null,
      "outputs": []
    },
    {
      "cell_type": "markdown",
      "source": [
        "Считаем тренировочные и тестовые данные"
      ],
      "metadata": {
        "id": "_ep6WoUheqE0"
      }
    },
    {
      "cell_type": "code",
      "source": [
        "train_df = pd.read_csv('/content/train.csv')\n",
        "test_df = pd.read_csv('/content/test.csv')"
      ],
      "metadata": {
        "id": "ybTS_RrqVi07"
      },
      "execution_count": null,
      "outputs": []
    },
    {
      "cell_type": "code",
      "source": [
        "train_df.head()"
      ],
      "metadata": {
        "colab": {
          "base_uri": "https://localhost:8080/",
          "height": 295
        },
        "id": "vYWhd4r-V3oW",
        "outputId": "774e8410-9129-4424-edf0-d732c4dc75b8"
      },
      "execution_count": null,
      "outputs": [
        {
          "output_type": "execute_result",
          "data": {
            "text/plain": [
              "   ClientPeriod  MonthlySpending TotalSpent     Sex  IsSeniorCitizen  \\\n",
              "0            55            19.50    1026.35    Male                0   \n",
              "1            72            25.85     1872.2    Male                0   \n",
              "2             1            75.90       75.9    Male                0   \n",
              "3            32            79.30       2570  Female                1   \n",
              "4            60           115.25    6758.45  Female                0   \n",
              "\n",
              "  HasPartner HasChild HasPhoneService HasMultiplePhoneNumbers  \\\n",
              "0        Yes      Yes             Yes                      No   \n",
              "1        Yes       No             Yes                     Yes   \n",
              "2         No       No             Yes                      No   \n",
              "3        Yes       No             Yes                     Yes   \n",
              "4        Yes      Yes             Yes                     Yes   \n",
              "\n",
              "  HasInternetService HasOnlineSecurityService      HasOnlineBackup  \\\n",
              "0                 No      No internet service  No internet service   \n",
              "1                 No      No internet service  No internet service   \n",
              "2        Fiber optic                       No                   No   \n",
              "3        Fiber optic                       No                   No   \n",
              "4        Fiber optic                      Yes                  Yes   \n",
              "\n",
              "   HasDeviceProtection HasTechSupportAccess          HasOnlineTV  \\\n",
              "0  No internet service  No internet service  No internet service   \n",
              "1  No internet service  No internet service  No internet service   \n",
              "2                   No                  Yes                   No   \n",
              "3                  Yes                   No                   No   \n",
              "4                  Yes                  Yes                  Yes   \n",
              "\n",
              "  HasMovieSubscription HasContractPhone IsBillingPaperless  \\\n",
              "0  No internet service         One year                 No   \n",
              "1  No internet service         Two year                 No   \n",
              "2                   No   Month-to-month                Yes   \n",
              "3                   No   Month-to-month                 No   \n",
              "4                  Yes         Two year                 No   \n",
              "\n",
              "             PaymentMethod  Churn  \n",
              "0             Mailed check      0  \n",
              "1  Credit card (automatic)      0  \n",
              "2         Electronic check      1  \n",
              "3             Mailed check      0  \n",
              "4  Credit card (automatic)      0  "
            ],
            "text/html": [
              "\n",
              "  <div id=\"df-e96706d9-c02e-4747-9882-7975f4748777\" class=\"colab-df-container\">\n",
              "    <div>\n",
              "<style scoped>\n",
              "    .dataframe tbody tr th:only-of-type {\n",
              "        vertical-align: middle;\n",
              "    }\n",
              "\n",
              "    .dataframe tbody tr th {\n",
              "        vertical-align: top;\n",
              "    }\n",
              "\n",
              "    .dataframe thead th {\n",
              "        text-align: right;\n",
              "    }\n",
              "</style>\n",
              "<table border=\"1\" class=\"dataframe\">\n",
              "  <thead>\n",
              "    <tr style=\"text-align: right;\">\n",
              "      <th></th>\n",
              "      <th>ClientPeriod</th>\n",
              "      <th>MonthlySpending</th>\n",
              "      <th>TotalSpent</th>\n",
              "      <th>Sex</th>\n",
              "      <th>IsSeniorCitizen</th>\n",
              "      <th>HasPartner</th>\n",
              "      <th>HasChild</th>\n",
              "      <th>HasPhoneService</th>\n",
              "      <th>HasMultiplePhoneNumbers</th>\n",
              "      <th>HasInternetService</th>\n",
              "      <th>HasOnlineSecurityService</th>\n",
              "      <th>HasOnlineBackup</th>\n",
              "      <th>HasDeviceProtection</th>\n",
              "      <th>HasTechSupportAccess</th>\n",
              "      <th>HasOnlineTV</th>\n",
              "      <th>HasMovieSubscription</th>\n",
              "      <th>HasContractPhone</th>\n",
              "      <th>IsBillingPaperless</th>\n",
              "      <th>PaymentMethod</th>\n",
              "      <th>Churn</th>\n",
              "    </tr>\n",
              "  </thead>\n",
              "  <tbody>\n",
              "    <tr>\n",
              "      <th>0</th>\n",
              "      <td>55</td>\n",
              "      <td>19.50</td>\n",
              "      <td>1026.35</td>\n",
              "      <td>Male</td>\n",
              "      <td>0</td>\n",
              "      <td>Yes</td>\n",
              "      <td>Yes</td>\n",
              "      <td>Yes</td>\n",
              "      <td>No</td>\n",
              "      <td>No</td>\n",
              "      <td>No internet service</td>\n",
              "      <td>No internet service</td>\n",
              "      <td>No internet service</td>\n",
              "      <td>No internet service</td>\n",
              "      <td>No internet service</td>\n",
              "      <td>No internet service</td>\n",
              "      <td>One year</td>\n",
              "      <td>No</td>\n",
              "      <td>Mailed check</td>\n",
              "      <td>0</td>\n",
              "    </tr>\n",
              "    <tr>\n",
              "      <th>1</th>\n",
              "      <td>72</td>\n",
              "      <td>25.85</td>\n",
              "      <td>1872.2</td>\n",
              "      <td>Male</td>\n",
              "      <td>0</td>\n",
              "      <td>Yes</td>\n",
              "      <td>No</td>\n",
              "      <td>Yes</td>\n",
              "      <td>Yes</td>\n",
              "      <td>No</td>\n",
              "      <td>No internet service</td>\n",
              "      <td>No internet service</td>\n",
              "      <td>No internet service</td>\n",
              "      <td>No internet service</td>\n",
              "      <td>No internet service</td>\n",
              "      <td>No internet service</td>\n",
              "      <td>Two year</td>\n",
              "      <td>No</td>\n",
              "      <td>Credit card (automatic)</td>\n",
              "      <td>0</td>\n",
              "    </tr>\n",
              "    <tr>\n",
              "      <th>2</th>\n",
              "      <td>1</td>\n",
              "      <td>75.90</td>\n",
              "      <td>75.9</td>\n",
              "      <td>Male</td>\n",
              "      <td>0</td>\n",
              "      <td>No</td>\n",
              "      <td>No</td>\n",
              "      <td>Yes</td>\n",
              "      <td>No</td>\n",
              "      <td>Fiber optic</td>\n",
              "      <td>No</td>\n",
              "      <td>No</td>\n",
              "      <td>No</td>\n",
              "      <td>Yes</td>\n",
              "      <td>No</td>\n",
              "      <td>No</td>\n",
              "      <td>Month-to-month</td>\n",
              "      <td>Yes</td>\n",
              "      <td>Electronic check</td>\n",
              "      <td>1</td>\n",
              "    </tr>\n",
              "    <tr>\n",
              "      <th>3</th>\n",
              "      <td>32</td>\n",
              "      <td>79.30</td>\n",
              "      <td>2570</td>\n",
              "      <td>Female</td>\n",
              "      <td>1</td>\n",
              "      <td>Yes</td>\n",
              "      <td>No</td>\n",
              "      <td>Yes</td>\n",
              "      <td>Yes</td>\n",
              "      <td>Fiber optic</td>\n",
              "      <td>No</td>\n",
              "      <td>No</td>\n",
              "      <td>Yes</td>\n",
              "      <td>No</td>\n",
              "      <td>No</td>\n",
              "      <td>No</td>\n",
              "      <td>Month-to-month</td>\n",
              "      <td>No</td>\n",
              "      <td>Mailed check</td>\n",
              "      <td>0</td>\n",
              "    </tr>\n",
              "    <tr>\n",
              "      <th>4</th>\n",
              "      <td>60</td>\n",
              "      <td>115.25</td>\n",
              "      <td>6758.45</td>\n",
              "      <td>Female</td>\n",
              "      <td>0</td>\n",
              "      <td>Yes</td>\n",
              "      <td>Yes</td>\n",
              "      <td>Yes</td>\n",
              "      <td>Yes</td>\n",
              "      <td>Fiber optic</td>\n",
              "      <td>Yes</td>\n",
              "      <td>Yes</td>\n",
              "      <td>Yes</td>\n",
              "      <td>Yes</td>\n",
              "      <td>Yes</td>\n",
              "      <td>Yes</td>\n",
              "      <td>Two year</td>\n",
              "      <td>No</td>\n",
              "      <td>Credit card (automatic)</td>\n",
              "      <td>0</td>\n",
              "    </tr>\n",
              "  </tbody>\n",
              "</table>\n",
              "</div>\n",
              "    <div class=\"colab-df-buttons\">\n",
              "\n",
              "  <div class=\"colab-df-container\">\n",
              "    <button class=\"colab-df-convert\" onclick=\"convertToInteractive('df-e96706d9-c02e-4747-9882-7975f4748777')\"\n",
              "            title=\"Convert this dataframe to an interactive table.\"\n",
              "            style=\"display:none;\">\n",
              "\n",
              "  <svg xmlns=\"http://www.w3.org/2000/svg\" height=\"24px\" viewBox=\"0 -960 960 960\">\n",
              "    <path d=\"M120-120v-720h720v720H120Zm60-500h600v-160H180v160Zm220 220h160v-160H400v160Zm0 220h160v-160H400v160ZM180-400h160v-160H180v160Zm440 0h160v-160H620v160ZM180-180h160v-160H180v160Zm440 0h160v-160H620v160Z\"/>\n",
              "  </svg>\n",
              "    </button>\n",
              "\n",
              "  <style>\n",
              "    .colab-df-container {\n",
              "      display:flex;\n",
              "      gap: 12px;\n",
              "    }\n",
              "\n",
              "    .colab-df-convert {\n",
              "      background-color: #E8F0FE;\n",
              "      border: none;\n",
              "      border-radius: 50%;\n",
              "      cursor: pointer;\n",
              "      display: none;\n",
              "      fill: #1967D2;\n",
              "      height: 32px;\n",
              "      padding: 0 0 0 0;\n",
              "      width: 32px;\n",
              "    }\n",
              "\n",
              "    .colab-df-convert:hover {\n",
              "      background-color: #E2EBFA;\n",
              "      box-shadow: 0px 1px 2px rgba(60, 64, 67, 0.3), 0px 1px 3px 1px rgba(60, 64, 67, 0.15);\n",
              "      fill: #174EA6;\n",
              "    }\n",
              "\n",
              "    .colab-df-buttons div {\n",
              "      margin-bottom: 4px;\n",
              "    }\n",
              "\n",
              "    [theme=dark] .colab-df-convert {\n",
              "      background-color: #3B4455;\n",
              "      fill: #D2E3FC;\n",
              "    }\n",
              "\n",
              "    [theme=dark] .colab-df-convert:hover {\n",
              "      background-color: #434B5C;\n",
              "      box-shadow: 0px 1px 3px 1px rgba(0, 0, 0, 0.15);\n",
              "      filter: drop-shadow(0px 1px 2px rgba(0, 0, 0, 0.3));\n",
              "      fill: #FFFFFF;\n",
              "    }\n",
              "  </style>\n",
              "\n",
              "    <script>\n",
              "      const buttonEl =\n",
              "        document.querySelector('#df-e96706d9-c02e-4747-9882-7975f4748777 button.colab-df-convert');\n",
              "      buttonEl.style.display =\n",
              "        google.colab.kernel.accessAllowed ? 'block' : 'none';\n",
              "\n",
              "      async function convertToInteractive(key) {\n",
              "        const element = document.querySelector('#df-e96706d9-c02e-4747-9882-7975f4748777');\n",
              "        const dataTable =\n",
              "          await google.colab.kernel.invokeFunction('convertToInteractive',\n",
              "                                                    [key], {});\n",
              "        if (!dataTable) return;\n",
              "\n",
              "        const docLinkHtml = 'Like what you see? Visit the ' +\n",
              "          '<a target=\"_blank\" href=https://colab.research.google.com/notebooks/data_table.ipynb>data table notebook</a>'\n",
              "          + ' to learn more about interactive tables.';\n",
              "        element.innerHTML = '';\n",
              "        dataTable['output_type'] = 'display_data';\n",
              "        await google.colab.output.renderOutput(dataTable, element);\n",
              "        const docLink = document.createElement('div');\n",
              "        docLink.innerHTML = docLinkHtml;\n",
              "        element.appendChild(docLink);\n",
              "      }\n",
              "    </script>\n",
              "  </div>\n",
              "\n",
              "\n",
              "<div id=\"df-7607daff-aa83-4f88-845a-64079ceff64b\">\n",
              "  <button class=\"colab-df-quickchart\" onclick=\"quickchart('df-7607daff-aa83-4f88-845a-64079ceff64b')\"\n",
              "            title=\"Suggest charts.\"\n",
              "            style=\"display:none;\">\n",
              "\n",
              "<svg xmlns=\"http://www.w3.org/2000/svg\" height=\"24px\"viewBox=\"0 0 24 24\"\n",
              "     width=\"24px\">\n",
              "    <g>\n",
              "        <path d=\"M19 3H5c-1.1 0-2 .9-2 2v14c0 1.1.9 2 2 2h14c1.1 0 2-.9 2-2V5c0-1.1-.9-2-2-2zM9 17H7v-7h2v7zm4 0h-2V7h2v10zm4 0h-2v-4h2v4z\"/>\n",
              "    </g>\n",
              "</svg>\n",
              "  </button>\n",
              "\n",
              "<style>\n",
              "  .colab-df-quickchart {\n",
              "      --bg-color: #E8F0FE;\n",
              "      --fill-color: #1967D2;\n",
              "      --hover-bg-color: #E2EBFA;\n",
              "      --hover-fill-color: #174EA6;\n",
              "      --disabled-fill-color: #AAA;\n",
              "      --disabled-bg-color: #DDD;\n",
              "  }\n",
              "\n",
              "  [theme=dark] .colab-df-quickchart {\n",
              "      --bg-color: #3B4455;\n",
              "      --fill-color: #D2E3FC;\n",
              "      --hover-bg-color: #434B5C;\n",
              "      --hover-fill-color: #FFFFFF;\n",
              "      --disabled-bg-color: #3B4455;\n",
              "      --disabled-fill-color: #666;\n",
              "  }\n",
              "\n",
              "  .colab-df-quickchart {\n",
              "    background-color: var(--bg-color);\n",
              "    border: none;\n",
              "    border-radius: 50%;\n",
              "    cursor: pointer;\n",
              "    display: none;\n",
              "    fill: var(--fill-color);\n",
              "    height: 32px;\n",
              "    padding: 0;\n",
              "    width: 32px;\n",
              "  }\n",
              "\n",
              "  .colab-df-quickchart:hover {\n",
              "    background-color: var(--hover-bg-color);\n",
              "    box-shadow: 0 1px 2px rgba(60, 64, 67, 0.3), 0 1px 3px 1px rgba(60, 64, 67, 0.15);\n",
              "    fill: var(--button-hover-fill-color);\n",
              "  }\n",
              "\n",
              "  .colab-df-quickchart-complete:disabled,\n",
              "  .colab-df-quickchart-complete:disabled:hover {\n",
              "    background-color: var(--disabled-bg-color);\n",
              "    fill: var(--disabled-fill-color);\n",
              "    box-shadow: none;\n",
              "  }\n",
              "\n",
              "  .colab-df-spinner {\n",
              "    border: 2px solid var(--fill-color);\n",
              "    border-color: transparent;\n",
              "    border-bottom-color: var(--fill-color);\n",
              "    animation:\n",
              "      spin 1s steps(1) infinite;\n",
              "  }\n",
              "\n",
              "  @keyframes spin {\n",
              "    0% {\n",
              "      border-color: transparent;\n",
              "      border-bottom-color: var(--fill-color);\n",
              "      border-left-color: var(--fill-color);\n",
              "    }\n",
              "    20% {\n",
              "      border-color: transparent;\n",
              "      border-left-color: var(--fill-color);\n",
              "      border-top-color: var(--fill-color);\n",
              "    }\n",
              "    30% {\n",
              "      border-color: transparent;\n",
              "      border-left-color: var(--fill-color);\n",
              "      border-top-color: var(--fill-color);\n",
              "      border-right-color: var(--fill-color);\n",
              "    }\n",
              "    40% {\n",
              "      border-color: transparent;\n",
              "      border-right-color: var(--fill-color);\n",
              "      border-top-color: var(--fill-color);\n",
              "    }\n",
              "    60% {\n",
              "      border-color: transparent;\n",
              "      border-right-color: var(--fill-color);\n",
              "    }\n",
              "    80% {\n",
              "      border-color: transparent;\n",
              "      border-right-color: var(--fill-color);\n",
              "      border-bottom-color: var(--fill-color);\n",
              "    }\n",
              "    90% {\n",
              "      border-color: transparent;\n",
              "      border-bottom-color: var(--fill-color);\n",
              "    }\n",
              "  }\n",
              "</style>\n",
              "\n",
              "  <script>\n",
              "    async function quickchart(key) {\n",
              "      const quickchartButtonEl =\n",
              "        document.querySelector('#' + key + ' button');\n",
              "      quickchartButtonEl.disabled = true;  // To prevent multiple clicks.\n",
              "      quickchartButtonEl.classList.add('colab-df-spinner');\n",
              "      try {\n",
              "        const charts = await google.colab.kernel.invokeFunction(\n",
              "            'suggestCharts', [key], {});\n",
              "      } catch (error) {\n",
              "        console.error('Error during call to suggestCharts:', error);\n",
              "      }\n",
              "      quickchartButtonEl.classList.remove('colab-df-spinner');\n",
              "      quickchartButtonEl.classList.add('colab-df-quickchart-complete');\n",
              "    }\n",
              "    (() => {\n",
              "      let quickchartButtonEl =\n",
              "        document.querySelector('#df-7607daff-aa83-4f88-845a-64079ceff64b button');\n",
              "      quickchartButtonEl.style.display =\n",
              "        google.colab.kernel.accessAllowed ? 'block' : 'none';\n",
              "    })();\n",
              "  </script>\n",
              "</div>\n",
              "    </div>\n",
              "  </div>\n"
            ]
          },
          "metadata": {},
          "execution_count": 5
        }
      ]
    },
    {
      "cell_type": "markdown",
      "source": [
        "Посмотрим есть ли пропущенные значения"
      ],
      "metadata": {
        "id": "xPuTqfyGe3MC"
      }
    },
    {
      "cell_type": "code",
      "source": [
        "train_df.info()"
      ],
      "metadata": {
        "colab": {
          "base_uri": "https://localhost:8080/"
        },
        "id": "9kJx5-PeWpwe",
        "outputId": "10cfdf6b-3824-4be1-d78f-20dd267e1b71"
      },
      "execution_count": null,
      "outputs": [
        {
          "output_type": "stream",
          "name": "stdout",
          "text": [
            "<class 'pandas.core.frame.DataFrame'>\n",
            "RangeIndex: 5282 entries, 0 to 5281\n",
            "Data columns (total 20 columns):\n",
            " #   Column                    Non-Null Count  Dtype  \n",
            "---  ------                    --------------  -----  \n",
            " 0   ClientPeriod              5282 non-null   int64  \n",
            " 1   MonthlySpending           5282 non-null   float64\n",
            " 2   TotalSpent                5282 non-null   object \n",
            " 3   Sex                       5282 non-null   object \n",
            " 4   IsSeniorCitizen           5282 non-null   int64  \n",
            " 5   HasPartner                5282 non-null   object \n",
            " 6   HasChild                  5282 non-null   object \n",
            " 7   HasPhoneService           5282 non-null   object \n",
            " 8   HasMultiplePhoneNumbers   5282 non-null   object \n",
            " 9   HasInternetService        5282 non-null   object \n",
            " 10  HasOnlineSecurityService  5282 non-null   object \n",
            " 11  HasOnlineBackup           5282 non-null   object \n",
            " 12  HasDeviceProtection       5282 non-null   object \n",
            " 13  HasTechSupportAccess      5282 non-null   object \n",
            " 14  HasOnlineTV               5282 non-null   object \n",
            " 15  HasMovieSubscription      5282 non-null   object \n",
            " 16  HasContractPhone          5282 non-null   object \n",
            " 17  IsBillingPaperless        5282 non-null   object \n",
            " 18  PaymentMethod             5282 non-null   object \n",
            " 19  Churn                     5282 non-null   int64  \n",
            "dtypes: float64(1), int64(3), object(16)\n",
            "memory usage: 825.4+ KB\n"
          ]
        }
      ]
    },
    {
      "cell_type": "markdown",
      "source": [
        "Посмотрим есть ли дупликаты"
      ],
      "metadata": {
        "id": "CUTYUjQZe8t3"
      }
    },
    {
      "cell_type": "code",
      "source": [
        "train_df.duplicated().sum()"
      ],
      "metadata": {
        "colab": {
          "base_uri": "https://localhost:8080/"
        },
        "id": "hUGmo-LQWzKY",
        "outputId": "6ede112b-0076-4636-89e5-ed1a8e9ecf57"
      },
      "execution_count": null,
      "outputs": [
        {
          "output_type": "execute_result",
          "data": {
            "text/plain": [
              "14"
            ]
          },
          "metadata": {},
          "execution_count": 7
        }
      ]
    },
    {
      "cell_type": "markdown",
      "source": [
        "удалим дупликаты"
      ],
      "metadata": {
        "id": "mm_snHlgfGUh"
      }
    },
    {
      "cell_type": "code",
      "source": [
        "train_df = train_df.drop_duplicates()"
      ],
      "metadata": {
        "id": "BsPEptJjXG71"
      },
      "execution_count": null,
      "outputs": []
    },
    {
      "cell_type": "markdown",
      "source": [
        "Разделим для удобства признаки на категориальные и числовые"
      ],
      "metadata": {
        "id": "ZfTay5UwfsdB"
      }
    },
    {
      "cell_type": "code",
      "source": [
        "# Числовые признаки\n",
        "num_cols = [\n",
        "    'ClientPeriod',\n",
        "    'MonthlySpending',\n",
        "    'TotalSpent'\n",
        "]\n",
        "\n",
        "# Категориальные признаки\n",
        "cat_cols = [\n",
        "    'Sex',\n",
        "    'IsSeniorCitizen',\n",
        "    'HasPartner',\n",
        "    'HasChild',\n",
        "    'HasPhoneService',\n",
        "    'HasMultiplePhoneNumbers',\n",
        "    'HasInternetService',\n",
        "    'HasOnlineSecurityService',\n",
        "    'HasOnlineBackup',\n",
        "    'HasDeviceProtection',\n",
        "    'HasTechSupportAccess',\n",
        "    'HasOnlineTV',\n",
        "    'HasMovieSubscription',\n",
        "    'HasContractPhone',\n",
        "    'IsBillingPaperless',\n",
        "    'PaymentMethod'\n",
        "]\n",
        "\n"
      ],
      "metadata": {
        "id": "TpKQ5Z0OXpuQ"
      },
      "execution_count": null,
      "outputs": []
    },
    {
      "cell_type": "code",
      "source": [
        "len(cat_cols)"
      ],
      "metadata": {
        "colab": {
          "base_uri": "https://localhost:8080/"
        },
        "id": "gDIcrdQBpCak",
        "outputId": "aadd90c7-9755-43f5-dee3-f9841dddc393"
      },
      "execution_count": null,
      "outputs": [
        {
          "output_type": "execute_result",
          "data": {
            "text/plain": [
              "16"
            ]
          },
          "metadata": {},
          "execution_count": 10
        }
      ]
    },
    {
      "cell_type": "markdown",
      "source": [
        "Заменим категориальные признаки на числа с помощью LabelEncoder"
      ],
      "metadata": {
        "id": "DMRdnVIPcaU_"
      }
    },
    {
      "cell_type": "code",
      "source": [
        "le = preprocessing.LabelEncoder()\n",
        "for cat_col in train_df[cat_cols]:\n",
        "    train_df[cat_col] = le.fit_transform(train_df[cat_col])\n",
        "train_df[cat_cols].head()"
      ],
      "metadata": {
        "colab": {
          "base_uri": "https://localhost:8080/",
          "height": 226
        },
        "id": "efOnSNySaG5Z",
        "outputId": "f13ad9aa-13d2-41ad-f90c-f0d5f5c20db4"
      },
      "execution_count": null,
      "outputs": [
        {
          "output_type": "execute_result",
          "data": {
            "text/plain": [
              "   Sex  IsSeniorCitizen  HasPartner  HasChild  HasPhoneService  \\\n",
              "0    1                0           1         1                1   \n",
              "1    1                0           1         0                1   \n",
              "2    1                0           0         0                1   \n",
              "3    0                1           1         0                1   \n",
              "4    0                0           1         1                1   \n",
              "\n",
              "   HasMultiplePhoneNumbers  HasInternetService  HasOnlineSecurityService  \\\n",
              "0                        0                   2                         1   \n",
              "1                        2                   2                         1   \n",
              "2                        0                   1                         0   \n",
              "3                        2                   1                         0   \n",
              "4                        2                   1                         2   \n",
              "\n",
              "   HasOnlineBackup  HasDeviceProtection  HasTechSupportAccess  HasOnlineTV  \\\n",
              "0                1                    1                     1            1   \n",
              "1                1                    1                     1            1   \n",
              "2                0                    0                     2            0   \n",
              "3                0                    2                     0            0   \n",
              "4                2                    2                     2            2   \n",
              "\n",
              "   HasMovieSubscription  HasContractPhone  IsBillingPaperless  PaymentMethod  \n",
              "0                     1                 1                   0              3  \n",
              "1                     1                 2                   0              1  \n",
              "2                     0                 0                   1              2  \n",
              "3                     0                 0                   0              3  \n",
              "4                     2                 2                   0              1  "
            ],
            "text/html": [
              "\n",
              "  <div id=\"df-f3bf2516-94dc-4112-8d5b-77ac66666d7d\" class=\"colab-df-container\">\n",
              "    <div>\n",
              "<style scoped>\n",
              "    .dataframe tbody tr th:only-of-type {\n",
              "        vertical-align: middle;\n",
              "    }\n",
              "\n",
              "    .dataframe tbody tr th {\n",
              "        vertical-align: top;\n",
              "    }\n",
              "\n",
              "    .dataframe thead th {\n",
              "        text-align: right;\n",
              "    }\n",
              "</style>\n",
              "<table border=\"1\" class=\"dataframe\">\n",
              "  <thead>\n",
              "    <tr style=\"text-align: right;\">\n",
              "      <th></th>\n",
              "      <th>Sex</th>\n",
              "      <th>IsSeniorCitizen</th>\n",
              "      <th>HasPartner</th>\n",
              "      <th>HasChild</th>\n",
              "      <th>HasPhoneService</th>\n",
              "      <th>HasMultiplePhoneNumbers</th>\n",
              "      <th>HasInternetService</th>\n",
              "      <th>HasOnlineSecurityService</th>\n",
              "      <th>HasOnlineBackup</th>\n",
              "      <th>HasDeviceProtection</th>\n",
              "      <th>HasTechSupportAccess</th>\n",
              "      <th>HasOnlineTV</th>\n",
              "      <th>HasMovieSubscription</th>\n",
              "      <th>HasContractPhone</th>\n",
              "      <th>IsBillingPaperless</th>\n",
              "      <th>PaymentMethod</th>\n",
              "    </tr>\n",
              "  </thead>\n",
              "  <tbody>\n",
              "    <tr>\n",
              "      <th>0</th>\n",
              "      <td>1</td>\n",
              "      <td>0</td>\n",
              "      <td>1</td>\n",
              "      <td>1</td>\n",
              "      <td>1</td>\n",
              "      <td>0</td>\n",
              "      <td>2</td>\n",
              "      <td>1</td>\n",
              "      <td>1</td>\n",
              "      <td>1</td>\n",
              "      <td>1</td>\n",
              "      <td>1</td>\n",
              "      <td>1</td>\n",
              "      <td>1</td>\n",
              "      <td>0</td>\n",
              "      <td>3</td>\n",
              "    </tr>\n",
              "    <tr>\n",
              "      <th>1</th>\n",
              "      <td>1</td>\n",
              "      <td>0</td>\n",
              "      <td>1</td>\n",
              "      <td>0</td>\n",
              "      <td>1</td>\n",
              "      <td>2</td>\n",
              "      <td>2</td>\n",
              "      <td>1</td>\n",
              "      <td>1</td>\n",
              "      <td>1</td>\n",
              "      <td>1</td>\n",
              "      <td>1</td>\n",
              "      <td>1</td>\n",
              "      <td>2</td>\n",
              "      <td>0</td>\n",
              "      <td>1</td>\n",
              "    </tr>\n",
              "    <tr>\n",
              "      <th>2</th>\n",
              "      <td>1</td>\n",
              "      <td>0</td>\n",
              "      <td>0</td>\n",
              "      <td>0</td>\n",
              "      <td>1</td>\n",
              "      <td>0</td>\n",
              "      <td>1</td>\n",
              "      <td>0</td>\n",
              "      <td>0</td>\n",
              "      <td>0</td>\n",
              "      <td>2</td>\n",
              "      <td>0</td>\n",
              "      <td>0</td>\n",
              "      <td>0</td>\n",
              "      <td>1</td>\n",
              "      <td>2</td>\n",
              "    </tr>\n",
              "    <tr>\n",
              "      <th>3</th>\n",
              "      <td>0</td>\n",
              "      <td>1</td>\n",
              "      <td>1</td>\n",
              "      <td>0</td>\n",
              "      <td>1</td>\n",
              "      <td>2</td>\n",
              "      <td>1</td>\n",
              "      <td>0</td>\n",
              "      <td>0</td>\n",
              "      <td>2</td>\n",
              "      <td>0</td>\n",
              "      <td>0</td>\n",
              "      <td>0</td>\n",
              "      <td>0</td>\n",
              "      <td>0</td>\n",
              "      <td>3</td>\n",
              "    </tr>\n",
              "    <tr>\n",
              "      <th>4</th>\n",
              "      <td>0</td>\n",
              "      <td>0</td>\n",
              "      <td>1</td>\n",
              "      <td>1</td>\n",
              "      <td>1</td>\n",
              "      <td>2</td>\n",
              "      <td>1</td>\n",
              "      <td>2</td>\n",
              "      <td>2</td>\n",
              "      <td>2</td>\n",
              "      <td>2</td>\n",
              "      <td>2</td>\n",
              "      <td>2</td>\n",
              "      <td>2</td>\n",
              "      <td>0</td>\n",
              "      <td>1</td>\n",
              "    </tr>\n",
              "  </tbody>\n",
              "</table>\n",
              "</div>\n",
              "    <div class=\"colab-df-buttons\">\n",
              "\n",
              "  <div class=\"colab-df-container\">\n",
              "    <button class=\"colab-df-convert\" onclick=\"convertToInteractive('df-f3bf2516-94dc-4112-8d5b-77ac66666d7d')\"\n",
              "            title=\"Convert this dataframe to an interactive table.\"\n",
              "            style=\"display:none;\">\n",
              "\n",
              "  <svg xmlns=\"http://www.w3.org/2000/svg\" height=\"24px\" viewBox=\"0 -960 960 960\">\n",
              "    <path d=\"M120-120v-720h720v720H120Zm60-500h600v-160H180v160Zm220 220h160v-160H400v160Zm0 220h160v-160H400v160ZM180-400h160v-160H180v160Zm440 0h160v-160H620v160ZM180-180h160v-160H180v160Zm440 0h160v-160H620v160Z\"/>\n",
              "  </svg>\n",
              "    </button>\n",
              "\n",
              "  <style>\n",
              "    .colab-df-container {\n",
              "      display:flex;\n",
              "      gap: 12px;\n",
              "    }\n",
              "\n",
              "    .colab-df-convert {\n",
              "      background-color: #E8F0FE;\n",
              "      border: none;\n",
              "      border-radius: 50%;\n",
              "      cursor: pointer;\n",
              "      display: none;\n",
              "      fill: #1967D2;\n",
              "      height: 32px;\n",
              "      padding: 0 0 0 0;\n",
              "      width: 32px;\n",
              "    }\n",
              "\n",
              "    .colab-df-convert:hover {\n",
              "      background-color: #E2EBFA;\n",
              "      box-shadow: 0px 1px 2px rgba(60, 64, 67, 0.3), 0px 1px 3px 1px rgba(60, 64, 67, 0.15);\n",
              "      fill: #174EA6;\n",
              "    }\n",
              "\n",
              "    .colab-df-buttons div {\n",
              "      margin-bottom: 4px;\n",
              "    }\n",
              "\n",
              "    [theme=dark] .colab-df-convert {\n",
              "      background-color: #3B4455;\n",
              "      fill: #D2E3FC;\n",
              "    }\n",
              "\n",
              "    [theme=dark] .colab-df-convert:hover {\n",
              "      background-color: #434B5C;\n",
              "      box-shadow: 0px 1px 3px 1px rgba(0, 0, 0, 0.15);\n",
              "      filter: drop-shadow(0px 1px 2px rgba(0, 0, 0, 0.3));\n",
              "      fill: #FFFFFF;\n",
              "    }\n",
              "  </style>\n",
              "\n",
              "    <script>\n",
              "      const buttonEl =\n",
              "        document.querySelector('#df-f3bf2516-94dc-4112-8d5b-77ac66666d7d button.colab-df-convert');\n",
              "      buttonEl.style.display =\n",
              "        google.colab.kernel.accessAllowed ? 'block' : 'none';\n",
              "\n",
              "      async function convertToInteractive(key) {\n",
              "        const element = document.querySelector('#df-f3bf2516-94dc-4112-8d5b-77ac66666d7d');\n",
              "        const dataTable =\n",
              "          await google.colab.kernel.invokeFunction('convertToInteractive',\n",
              "                                                    [key], {});\n",
              "        if (!dataTable) return;\n",
              "\n",
              "        const docLinkHtml = 'Like what you see? Visit the ' +\n",
              "          '<a target=\"_blank\" href=https://colab.research.google.com/notebooks/data_table.ipynb>data table notebook</a>'\n",
              "          + ' to learn more about interactive tables.';\n",
              "        element.innerHTML = '';\n",
              "        dataTable['output_type'] = 'display_data';\n",
              "        await google.colab.output.renderOutput(dataTable, element);\n",
              "        const docLink = document.createElement('div');\n",
              "        docLink.innerHTML = docLinkHtml;\n",
              "        element.appendChild(docLink);\n",
              "      }\n",
              "    </script>\n",
              "  </div>\n",
              "\n",
              "\n",
              "<div id=\"df-8ab0efb5-7794-4b51-b661-5909070aa39b\">\n",
              "  <button class=\"colab-df-quickchart\" onclick=\"quickchart('df-8ab0efb5-7794-4b51-b661-5909070aa39b')\"\n",
              "            title=\"Suggest charts.\"\n",
              "            style=\"display:none;\">\n",
              "\n",
              "<svg xmlns=\"http://www.w3.org/2000/svg\" height=\"24px\"viewBox=\"0 0 24 24\"\n",
              "     width=\"24px\">\n",
              "    <g>\n",
              "        <path d=\"M19 3H5c-1.1 0-2 .9-2 2v14c0 1.1.9 2 2 2h14c1.1 0 2-.9 2-2V5c0-1.1-.9-2-2-2zM9 17H7v-7h2v7zm4 0h-2V7h2v10zm4 0h-2v-4h2v4z\"/>\n",
              "    </g>\n",
              "</svg>\n",
              "  </button>\n",
              "\n",
              "<style>\n",
              "  .colab-df-quickchart {\n",
              "      --bg-color: #E8F0FE;\n",
              "      --fill-color: #1967D2;\n",
              "      --hover-bg-color: #E2EBFA;\n",
              "      --hover-fill-color: #174EA6;\n",
              "      --disabled-fill-color: #AAA;\n",
              "      --disabled-bg-color: #DDD;\n",
              "  }\n",
              "\n",
              "  [theme=dark] .colab-df-quickchart {\n",
              "      --bg-color: #3B4455;\n",
              "      --fill-color: #D2E3FC;\n",
              "      --hover-bg-color: #434B5C;\n",
              "      --hover-fill-color: #FFFFFF;\n",
              "      --disabled-bg-color: #3B4455;\n",
              "      --disabled-fill-color: #666;\n",
              "  }\n",
              "\n",
              "  .colab-df-quickchart {\n",
              "    background-color: var(--bg-color);\n",
              "    border: none;\n",
              "    border-radius: 50%;\n",
              "    cursor: pointer;\n",
              "    display: none;\n",
              "    fill: var(--fill-color);\n",
              "    height: 32px;\n",
              "    padding: 0;\n",
              "    width: 32px;\n",
              "  }\n",
              "\n",
              "  .colab-df-quickchart:hover {\n",
              "    background-color: var(--hover-bg-color);\n",
              "    box-shadow: 0 1px 2px rgba(60, 64, 67, 0.3), 0 1px 3px 1px rgba(60, 64, 67, 0.15);\n",
              "    fill: var(--button-hover-fill-color);\n",
              "  }\n",
              "\n",
              "  .colab-df-quickchart-complete:disabled,\n",
              "  .colab-df-quickchart-complete:disabled:hover {\n",
              "    background-color: var(--disabled-bg-color);\n",
              "    fill: var(--disabled-fill-color);\n",
              "    box-shadow: none;\n",
              "  }\n",
              "\n",
              "  .colab-df-spinner {\n",
              "    border: 2px solid var(--fill-color);\n",
              "    border-color: transparent;\n",
              "    border-bottom-color: var(--fill-color);\n",
              "    animation:\n",
              "      spin 1s steps(1) infinite;\n",
              "  }\n",
              "\n",
              "  @keyframes spin {\n",
              "    0% {\n",
              "      border-color: transparent;\n",
              "      border-bottom-color: var(--fill-color);\n",
              "      border-left-color: var(--fill-color);\n",
              "    }\n",
              "    20% {\n",
              "      border-color: transparent;\n",
              "      border-left-color: var(--fill-color);\n",
              "      border-top-color: var(--fill-color);\n",
              "    }\n",
              "    30% {\n",
              "      border-color: transparent;\n",
              "      border-left-color: var(--fill-color);\n",
              "      border-top-color: var(--fill-color);\n",
              "      border-right-color: var(--fill-color);\n",
              "    }\n",
              "    40% {\n",
              "      border-color: transparent;\n",
              "      border-right-color: var(--fill-color);\n",
              "      border-top-color: var(--fill-color);\n",
              "    }\n",
              "    60% {\n",
              "      border-color: transparent;\n",
              "      border-right-color: var(--fill-color);\n",
              "    }\n",
              "    80% {\n",
              "      border-color: transparent;\n",
              "      border-right-color: var(--fill-color);\n",
              "      border-bottom-color: var(--fill-color);\n",
              "    }\n",
              "    90% {\n",
              "      border-color: transparent;\n",
              "      border-bottom-color: var(--fill-color);\n",
              "    }\n",
              "  }\n",
              "</style>\n",
              "\n",
              "  <script>\n",
              "    async function quickchart(key) {\n",
              "      const quickchartButtonEl =\n",
              "        document.querySelector('#' + key + ' button');\n",
              "      quickchartButtonEl.disabled = true;  // To prevent multiple clicks.\n",
              "      quickchartButtonEl.classList.add('colab-df-spinner');\n",
              "      try {\n",
              "        const charts = await google.colab.kernel.invokeFunction(\n",
              "            'suggestCharts', [key], {});\n",
              "      } catch (error) {\n",
              "        console.error('Error during call to suggestCharts:', error);\n",
              "      }\n",
              "      quickchartButtonEl.classList.remove('colab-df-spinner');\n",
              "      quickchartButtonEl.classList.add('colab-df-quickchart-complete');\n",
              "    }\n",
              "    (() => {\n",
              "      let quickchartButtonEl =\n",
              "        document.querySelector('#df-8ab0efb5-7794-4b51-b661-5909070aa39b button');\n",
              "      quickchartButtonEl.style.display =\n",
              "        google.colab.kernel.accessAllowed ? 'block' : 'none';\n",
              "    })();\n",
              "  </script>\n",
              "</div>\n",
              "    </div>\n",
              "  </div>\n"
            ]
          },
          "metadata": {},
          "execution_count": 11
        }
      ]
    },
    {
      "cell_type": "markdown",
      "source": [
        "Посмотрим соотношение классов"
      ],
      "metadata": {
        "id": "vAGuy0dQcsuT"
      }
    },
    {
      "cell_type": "code",
      "source": [
        "feature_cols = num_cols + cat_cols\n",
        "target_col = 'Churn'"
      ],
      "metadata": {
        "id": "MDJTNNNjnuuo"
      },
      "execution_count": null,
      "outputs": []
    },
    {
      "cell_type": "code",
      "source": [
        "train_df[target_col].value_counts()"
      ],
      "metadata": {
        "colab": {
          "base_uri": "https://localhost:8080/"
        },
        "id": "Wm3nPMcvcv50",
        "outputId": "14e83c91-8f48-4c86-e5b0-6f673dba8ca0"
      },
      "execution_count": null,
      "outputs": [
        {
          "output_type": "execute_result",
          "data": {
            "text/plain": [
              "0    3894\n",
              "1    1374\n",
              "Name: Churn, dtype: int64"
            ]
          },
          "metadata": {},
          "execution_count": 13
        }
      ]
    },
    {
      "cell_type": "markdown",
      "source": [
        "классы несбалансированны - в качестве метрики используем ROC-AUC\n",
        "Построим гистограмму для наглядности"
      ],
      "metadata": {
        "id": "zDQKKS_Of-H4"
      }
    },
    {
      "cell_type": "code",
      "source": [
        "plt.hist(train_df[target_col])"
      ],
      "metadata": {
        "colab": {
          "base_uri": "https://localhost:8080/",
          "height": 499
        },
        "id": "YlXCOHcbdjBq",
        "outputId": "842619d0-6520-4897-dfc2-271142855057"
      },
      "execution_count": null,
      "outputs": [
        {
          "output_type": "execute_result",
          "data": {
            "text/plain": [
              "(array([3894.,    0.,    0.,    0.,    0.,    0.,    0.,    0.,    0.,\n",
              "        1374.]),\n",
              " array([0. , 0.1, 0.2, 0.3, 0.4, 0.5, 0.6, 0.7, 0.8, 0.9, 1. ]),\n",
              " <BarContainer object of 10 artists>)"
            ]
          },
          "metadata": {},
          "execution_count": 14
        },
        {
          "output_type": "display_data",
          "data": {
            "text/plain": [
              "<Figure size 640x480 with 1 Axes>"
            ],
            "image/png": "[encoded data removed]"
          },
          "metadata": {}
        }
      ]
    },
    {
      "cell_type": "markdown",
      "source": [
        "Посмотрим как целевая переменная зависит от категориальных переменных"
      ],
      "metadata": {
        "id": "0HBzWRBtgSz6"
      }
    },
    {
      "cell_type": "code",
      "source": [
        "rcParams['figure.figsize'] = 20, 25\n",
        "for index,col in enumerate(cat_cols):\n",
        "    plt.subplot(4, 4, index + 1)\n",
        "    sns.barplot(x=col, y='Churn', data=train_df)\n",
        "plt.show()"
      ],
      "metadata": {
        "colab": {
          "base_uri": "https://localhost:8080/",
          "height": 1000
        },
        "id": "daOnMfAkkAC9",
        "outputId": "81071c7e-83da-45b8-f6e4-5abbff7d1b87"
      },
      "execution_count": null,
      "outputs": [
        {
          "output_type": "display_data",
          "data": {
            "text/plain": [
              "<Figure size 2000x2500 with 16 Axes>"
            ],
            "image/png": "[encoded data removed]"
          },
          "metadata": {}
        }
      ]
    },
    {
      "cell_type": "markdown",
      "source": [
        "Видно, что некоторые переменные слабо влияют на целевой показатель, например, пол или HasPhoneService"
      ],
      "metadata": {
        "id": "PQNpnHxvpl7Y"
      }
    },
    {
      "cell_type": "code",
      "source": [
        "color_map = sns.color_palette(['#d7301f', '#fcae91', '#f7f7f7', '#f7f7f7', '#f7f7f7', '#f7f7f7', '#9ecae1', '#08519c'])\n",
        "\n",
        "# Определение размера диаграммы\n",
        "plt.figure(figsize=(20, 14))\n",
        "\n",
        "# Вывод корреляционной матрицы\n",
        "ax = sns.heatmap(\n",
        "    train_df[feature_cols].corr(), cmap=color_map, square=True, vmin=-1, vmax=1, center= 0,\n",
        "    linewidths=0.1, linecolor='white', annot=True, fmt='.1g',\n",
        "    cbar_kws=dict(ticks=np.arange(-1.0, 1.1, 0.25), aspect=25))\n",
        "\n",
        "# Вывод диаграммы\n",
        "plt.show()"
      ],
      "metadata": {
        "colab": {
          "base_uri": "https://localhost:8080/",
          "height": 832
        },
        "id": "RD7N8PZlTy98",
        "outputId": "1ea73315-891d-4724-81d7-e8614afe5116"
      },
      "execution_count": null,
      "outputs": [
        {
          "output_type": "stream",
          "name": "stderr",
          "text": [
            "<ipython-input-16-ace5c128e7b2>:8: FutureWarning: The default value of numeric_only in DataFrame.corr is deprecated. In a future version, it will default to False. Select only valid columns or specify the value of numeric_only to silence this warning.\n",
            "  train_df[feature_cols].corr(), cmap=color_map, square=True, vmin=-1, vmax=1, center= 0,\n"
          ]
        },
        {
          "output_type": "display_data",
          "data": {
            "text/plain": [
              "<Figure size 2000x1400 with 2 Axes>"
            ],
            "image/png": "[encoded data removed]"
          },
          "metadata": {}
        }
      ]
    },
    {
      "cell_type": "markdown",
      "source": [
        "Сильной корреляции между признаками не выявлено. Есть небольшая корреляция между HasContactPhone и ClientPeriod"
      ],
      "metadata": {
        "id": "x3bVeq3JqNkT"
      }
    },
    {
      "cell_type": "code",
      "source": [
        "from sklearn.model_selection import train_test_split\n",
        "from sklearn.metrics import roc_auc_score\n",
        "from sklearn.linear_model import LogisticRegression"
      ],
      "metadata": {
        "id": "o-mfXY7cljZt"
      },
      "execution_count": null,
      "outputs": []
    },
    {
      "cell_type": "markdown",
      "source": [
        "Разделим выборку на X и y"
      ],
      "metadata": {
        "id": "0GbRAYC2qxFL"
      }
    },
    {
      "cell_type": "code",
      "source": [
        "X = train_df[feature_cols]\n",
        "y = train_df[target_col]\n",
        "X.head()"
      ],
      "metadata": {
        "colab": {
          "base_uri": "https://localhost:8080/",
          "height": 226
        },
        "id": "-Oh09sjHltO8",
        "outputId": "596ef336-66bf-43a5-9ada-256add2bff0c"
      },
      "execution_count": null,
      "outputs": [
        {
          "output_type": "execute_result",
          "data": {
            "text/plain": [
              "   ClientPeriod  MonthlySpending TotalSpent  Sex  IsSeniorCitizen  HasPartner  \\\n",
              "0            55            19.50    1026.35    1                0           1   \n",
              "1            72            25.85     1872.2    1                0           1   \n",
              "2             1            75.90       75.9    1                0           0   \n",
              "3            32            79.30       2570    0                1           1   \n",
              "4            60           115.25    6758.45    0                0           1   \n",
              "\n",
              "   HasChild  HasPhoneService  HasMultiplePhoneNumbers  HasInternetService  \\\n",
              "0         1                1                        0                   2   \n",
              "1         0                1                        2                   2   \n",
              "2         0                1                        0                   1   \n",
              "3         0                1                        2                   1   \n",
              "4         1                1                        2                   1   \n",
              "\n",
              "   HasOnlineSecurityService  HasOnlineBackup  HasDeviceProtection  \\\n",
              "0                         1                1                    1   \n",
              "1                         1                1                    1   \n",
              "2                         0                0                    0   \n",
              "3                         0                0                    2   \n",
              "4                         2                2                    2   \n",
              "\n",
              "   HasTechSupportAccess  HasOnlineTV  HasMovieSubscription  HasContractPhone  \\\n",
              "0                     1            1                     1                 1   \n",
              "1                     1            1                     1                 2   \n",
              "2                     2            0                     0                 0   \n",
              "3                     0            0                     0                 0   \n",
              "4                     2            2                     2                 2   \n",
              "\n",
              "   IsBillingPaperless  PaymentMethod  \n",
              "0                   0              3  \n",
              "1                   0              1  \n",
              "2                   1              2  \n",
              "3                   0              3  \n",
              "4                   0              1  "
            ],
            "text/html": [
              "\n",
              "  <div id=\"df-ef3aeca4-8850-4b20-b2b5-36f3089e6c03\" class=\"colab-df-container\">\n",
              "    <div>\n",
              "<style scoped>\n",
              "    .dataframe tbody tr th:only-of-type {\n",
              "        vertical-align: middle;\n",
              "    }\n",
              "\n",
              "    .dataframe tbody tr th {\n",
              "        vertical-align: top;\n",
              "    }\n",
              "\n",
              "    .dataframe thead th {\n",
              "        text-align: right;\n",
              "    }\n",
              "</style>\n",
              "<table border=\"1\" class=\"dataframe\">\n",
              "  <thead>\n",
              "    <tr style=\"text-align: right;\">\n",
              "      <th></th>\n",
              "      <th>ClientPeriod</th>\n",
              "      <th>MonthlySpending</th>\n",
              "      <th>TotalSpent</th>\n",
              "      <th>Sex</th>\n",
              "      <th>IsSeniorCitizen</th>\n",
              "      <th>HasPartner</th>\n",
              "      <th>HasChild</th>\n",
              "      <th>HasPhoneService</th>\n",
              "      <th>HasMultiplePhoneNumbers</th>\n",
              "      <th>HasInternetService</th>\n",
              "      <th>HasOnlineSecurityService</th>\n",
              "      <th>HasOnlineBackup</th>\n",
              "      <th>HasDeviceProtection</th>\n",
              "      <th>HasTechSupportAccess</th>\n",
              "      <th>HasOnlineTV</th>\n",
              "      <th>HasMovieSubscription</th>\n",
              "      <th>HasContractPhone</th>\n",
              "      <th>IsBillingPaperless</th>\n",
              "      <th>PaymentMethod</th>\n",
              "    </tr>\n",
              "  </thead>\n",
              "  <tbody>\n",
              "    <tr>\n",
              "      <th>0</th>\n",
              "      <td>55</td>\n",
              "      <td>19.50</td>\n",
              "      <td>1026.35</td>\n",
              "      <td>1</td>\n",
              "      <td>0</td>\n",
              "      <td>1</td>\n",
              "      <td>1</td>\n",
              "      <td>1</td>\n",
              "      <td>0</td>\n",
              "      <td>2</td>\n",
              "      <td>1</td>\n",
              "      <td>1</td>\n",
              "      <td>1</td>\n",
              "      <td>1</td>\n",
              "      <td>1</td>\n",
              "      <td>1</td>\n",
              "      <td>1</td>\n",
              "      <td>0</td>\n",
              "      <td>3</td>\n",
              "    </tr>\n",
              "    <tr>\n",
              "      <th>1</th>\n",
              "      <td>72</td>\n",
              "      <td>25.85</td>\n",
              "      <td>1872.2</td>\n",
              "      <td>1</td>\n",
              "      <td>0</td>\n",
              "      <td>1</td>\n",
              "      <td>0</td>\n",
              "      <td>1</td>\n",
              "      <td>2</td>\n",
              "      <td>2</td>\n",
              "      <td>1</td>\n",
              "      <td>1</td>\n",
              "      <td>1</td>\n",
              "      <td>1</td>\n",
              "      <td>1</td>\n",
              "      <td>1</td>\n",
              "      <td>2</td>\n",
              "      <td>0</td>\n",
              "      <td>1</td>\n",
              "    </tr>\n",
              "    <tr>\n",
              "      <th>2</th>\n",
              "      <td>1</td>\n",
              "      <td>75.90</td>\n",
              "      <td>75.9</td>\n",
              "      <td>1</td>\n",
              "      <td>0</td>\n",
              "      <td>0</td>\n",
              "      <td>0</td>\n",
              "      <td>1</td>\n",
              "      <td>0</td>\n",
              "      <td>1</td>\n",
              "      <td>0</td>\n",
              "      <td>0</td>\n",
              "      <td>0</td>\n",
              "      <td>2</td>\n",
              "      <td>0</td>\n",
              "      <td>0</td>\n",
              "      <td>0</td>\n",
              "      <td>1</td>\n",
              "      <td>2</td>\n",
              "    </tr>\n",
              "    <tr>\n",
              "      <th>3</th>\n",
              "      <td>32</td>\n",
              "      <td>79.30</td>\n",
              "      <td>2570</td>\n",
              "      <td>0</td>\n",
              "      <td>1</td>\n",
              "      <td>1</td>\n",
              "      <td>0</td>\n",
              "      <td>1</td>\n",
              "      <td>2</td>\n",
              "      <td>1</td>\n",
              "      <td>0</td>\n",
              "      <td>0</td>\n",
              "      <td>2</td>\n",
              "      <td>0</td>\n",
              "      <td>0</td>\n",
              "      <td>0</td>\n",
              "      <td>0</td>\n",
              "      <td>0</td>\n",
              "      <td>3</td>\n",
              "    </tr>\n",
              "    <tr>\n",
              "      <th>4</th>\n",
              "      <td>60</td>\n",
              "      <td>115.25</td>\n",
              "      <td>6758.45</td>\n",
              "      <td>0</td>\n",
              "      <td>0</td>\n",
              "      <td>1</td>\n",
              "      <td>1</td>\n",
              "      <td>1</td>\n",
              "      <td>2</td>\n",
              "      <td>1</td>\n",
              "      <td>2</td>\n",
              "      <td>2</td>\n",
              "      <td>2</td>\n",
              "      <td>2</td>\n",
              "      <td>2</td>\n",
              "      <td>2</td>\n",
              "      <td>2</td>\n",
              "      <td>0</td>\n",
              "      <td>1</td>\n",
              "    </tr>\n",
              "  </tbody>\n",
              "</table>\n",
              "</div>\n",
              "    <div class=\"colab-df-buttons\">\n",
              "\n",
              "  <div class=\"colab-df-container\">\n",
              "    <button class=\"colab-df-convert\" onclick=\"convertToInteractive('df-ef3aeca4-8850-4b20-b2b5-36f3089e6c03')\"\n",
              "            title=\"Convert this dataframe to an interactive table.\"\n",
              "            style=\"display:none;\">\n",
              "\n",
              "  <svg xmlns=\"http://www.w3.org/2000/svg\" height=\"24px\" viewBox=\"0 -960 960 960\">\n",
              "    <path d=\"M120-120v-720h720v720H120Zm60-500h600v-160H180v160Zm220 220h160v-160H400v160Zm0 220h160v-160H400v160ZM180-400h160v-160H180v160Zm440 0h160v-160H620v160ZM180-180h160v-160H180v160Zm440 0h160v-160H620v160Z\"/>\n",
              "  </svg>\n",
              "    </button>\n",
              "\n",
              "  <style>\n",
              "    .colab-df-container {\n",
              "      display:flex;\n",
              "      gap: 12px;\n",
              "    }\n",
              "\n",
              "    .colab-df-convert {\n",
              "      background-color: #E8F0FE;\n",
              "      border: none;\n",
              "      border-radius: 50%;\n",
              "      cursor: pointer;\n",
              "      display: none;\n",
              "      fill: #1967D2;\n",
              "      height: 32px;\n",
              "      padding: 0 0 0 0;\n",
              "      width: 32px;\n",
              "    }\n",
              "\n",
              "    .colab-df-convert:hover {\n",
              "      background-color: #E2EBFA;\n",
              "      box-shadow: 0px 1px 2px rgba(60, 64, 67, 0.3), 0px 1px 3px 1px rgba(60, 64, 67, 0.15);\n",
              "      fill: #174EA6;\n",
              "    }\n",
              "\n",
              "    .colab-df-buttons div {\n",
              "      margin-bottom: 4px;\n",
              "    }\n",
              "\n",
              "    [theme=dark] .colab-df-convert {\n",
              "      background-color: #3B4455;\n",
              "      fill: #D2E3FC;\n",
              "    }\n",
              "\n",
              "    [theme=dark] .colab-df-convert:hover {\n",
              "      background-color: #434B5C;\n",
              "      box-shadow: 0px 1px 3px 1px rgba(0, 0, 0, 0.15);\n",
              "      filter: drop-shadow(0px 1px 2px rgba(0, 0, 0, 0.3));\n",
              "      fill: #FFFFFF;\n",
              "    }\n",
              "  </style>\n",
              "\n",
              "    <script>\n",
              "      const buttonEl =\n",
              "        document.querySelector('#df-ef3aeca4-8850-4b20-b2b5-36f3089e6c03 button.colab-df-convert');\n",
              "      buttonEl.style.display =\n",
              "        google.colab.kernel.accessAllowed ? 'block' : 'none';\n",
              "\n",
              "      async function convertToInteractive(key) {\n",
              "        const element = document.querySelector('#df-ef3aeca4-8850-4b20-b2b5-36f3089e6c03');\n",
              "        const dataTable =\n",
              "          await google.colab.kernel.invokeFunction('convertToInteractive',\n",
              "                                                    [key], {});\n",
              "        if (!dataTable) return;\n",
              "\n",
              "        const docLinkHtml = 'Like what you see? Visit the ' +\n",
              "          '<a target=\"_blank\" href=https://colab.research.google.com/notebooks/data_table.ipynb>data table notebook</a>'\n",
              "          + ' to learn more about interactive tables.';\n",
              "        element.innerHTML = '';\n",
              "        dataTable['output_type'] = 'display_data';\n",
              "        await google.colab.output.renderOutput(dataTable, element);\n",
              "        const docLink = document.createElement('div');\n",
              "        docLink.innerHTML = docLinkHtml;\n",
              "        element.appendChild(docLink);\n",
              "      }\n",
              "    </script>\n",
              "  </div>\n",
              "\n",
              "\n",
              "<div id=\"df-dfb321b2-c9b4-4c08-909b-170378d08ec8\">\n",
              "  <button class=\"colab-df-quickchart\" onclick=\"quickchart('df-dfb321b2-c9b4-4c08-909b-170378d08ec8')\"\n",
              "            title=\"Suggest charts.\"\n",
              "            style=\"display:none;\">\n",
              "\n",
              "<svg xmlns=\"http://www.w3.org/2000/svg\" height=\"24px\"viewBox=\"0 0 24 24\"\n",
              "     width=\"24px\">\n",
              "    <g>\n",
              "        <path d=\"M19 3H5c-1.1 0-2 .9-2 2v14c0 1.1.9 2 2 2h14c1.1 0 2-.9 2-2V5c0-1.1-.9-2-2-2zM9 17H7v-7h2v7zm4 0h-2V7h2v10zm4 0h-2v-4h2v4z\"/>\n",
              "    </g>\n",
              "</svg>\n",
              "  </button>\n",
              "\n",
              "<style>\n",
              "  .colab-df-quickchart {\n",
              "      --bg-color: #E8F0FE;\n",
              "      --fill-color: #1967D2;\n",
              "      --hover-bg-color: #E2EBFA;\n",
              "      --hover-fill-color: #174EA6;\n",
              "      --disabled-fill-color: #AAA;\n",
              "      --disabled-bg-color: #DDD;\n",
              "  }\n",
              "\n",
              "  [theme=dark] .colab-df-quickchart {\n",
              "      --bg-color: #3B4455;\n",
              "      --fill-color: #D2E3FC;\n",
              "      --hover-bg-color: #434B5C;\n",
              "      --hover-fill-color: #FFFFFF;\n",
              "      --disabled-bg-color: #3B4455;\n",
              "      --disabled-fill-color: #666;\n",
              "  }\n",
              "\n",
              "  .colab-df-quickchart {\n",
              "    background-color: var(--bg-color);\n",
              "    border: none;\n",
              "    border-radius: 50%;\n",
              "    cursor: pointer;\n",
              "    display: none;\n",
              "    fill: var(--fill-color);\n",
              "    height: 32px;\n",
              "    padding: 0;\n",
              "    width: 32px;\n",
              "  }\n",
              "\n",
              "  .colab-df-quickchart:hover {\n",
              "    background-color: var(--hover-bg-color);\n",
              "    box-shadow: 0 1px 2px rgba(60, 64, 67, 0.3), 0 1px 3px 1px rgba(60, 64, 67, 0.15);\n",
              "    fill: var(--button-hover-fill-color);\n",
              "  }\n",
              "\n",
              "  .colab-df-quickchart-complete:disabled,\n",
              "  .colab-df-quickchart-complete:disabled:hover {\n",
              "    background-color: var(--disabled-bg-color);\n",
              "    fill: var(--disabled-fill-color);\n",
              "    box-shadow: none;\n",
              "  }\n",
              "\n",
              "  .colab-df-spinner {\n",
              "    border: 2px solid var(--fill-color);\n",
              "    border-color: transparent;\n",
              "    border-bottom-color: var(--fill-color);\n",
              "    animation:\n",
              "      spin 1s steps(1) infinite;\n",
              "  }\n",
              "\n",
              "  @keyframes spin {\n",
              "    0% {\n",
              "      border-color: transparent;\n",
              "      border-bottom-color: var(--fill-color);\n",
              "      border-left-color: var(--fill-color);\n",
              "    }\n",
              "    20% {\n",
              "      border-color: transparent;\n",
              "      border-left-color: var(--fill-color);\n",
              "      border-top-color: var(--fill-color);\n",
              "    }\n",
              "    30% {\n",
              "      border-color: transparent;\n",
              "      border-left-color: var(--fill-color);\n",
              "      border-top-color: var(--fill-color);\n",
              "      border-right-color: var(--fill-color);\n",
              "    }\n",
              "    40% {\n",
              "      border-color: transparent;\n",
              "      border-right-color: var(--fill-color);\n",
              "      border-top-color: var(--fill-color);\n",
              "    }\n",
              "    60% {\n",
              "      border-color: transparent;\n",
              "      border-right-color: var(--fill-color);\n",
              "    }\n",
              "    80% {\n",
              "      border-color: transparent;\n",
              "      border-right-color: var(--fill-color);\n",
              "      border-bottom-color: var(--fill-color);\n",
              "    }\n",
              "    90% {\n",
              "      border-color: transparent;\n",
              "      border-bottom-color: var(--fill-color);\n",
              "    }\n",
              "  }\n",
              "</style>\n",
              "\n",
              "  <script>\n",
              "    async function quickchart(key) {\n",
              "      const quickchartButtonEl =\n",
              "        document.querySelector('#' + key + ' button');\n",
              "      quickchartButtonEl.disabled = true;  // To prevent multiple clicks.\n",
              "      quickchartButtonEl.classList.add('colab-df-spinner');\n",
              "      try {\n",
              "        const charts = await google.colab.kernel.invokeFunction(\n",
              "            'suggestCharts', [key], {});\n",
              "      } catch (error) {\n",
              "        console.error('Error during call to suggestCharts:', error);\n",
              "      }\n",
              "      quickchartButtonEl.classList.remove('colab-df-spinner');\n",
              "      quickchartButtonEl.classList.add('colab-df-quickchart-complete');\n",
              "    }\n",
              "    (() => {\n",
              "      let quickchartButtonEl =\n",
              "        document.querySelector('#df-dfb321b2-c9b4-4c08-909b-170378d08ec8 button');\n",
              "      quickchartButtonEl.style.display =\n",
              "        google.colab.kernel.accessAllowed ? 'block' : 'none';\n",
              "    })();\n",
              "  </script>\n",
              "</div>\n",
              "    </div>\n",
              "  </div>\n"
            ]
          },
          "metadata": {},
          "execution_count": 18
        }
      ]
    },
    {
      "cell_type": "markdown",
      "source": [
        "Столбец 'TotalSpent' содержит пустые строки"
      ],
      "metadata": {
        "id": "txYSoG5gq8zZ"
      }
    },
    {
      "cell_type": "code",
      "source": [
        "np.where(X.applymap(lambda x: x == ' '))"
      ],
      "metadata": {
        "colab": {
          "base_uri": "https://localhost:8080/"
        },
        "id": "BYu5IHaGrUoo",
        "outputId": "3810408e-8b6f-49a4-b40e-10cff4c53b29"
      },
      "execution_count": null,
      "outputs": [
        {
          "output_type": "execute_result",
          "data": {
            "text/plain": [
              "(array([1048, 1704, 2538, 3070, 3688, 3992, 4315, 4538, 4585]),\n",
              " array([2, 2, 2, 2, 2, 2, 2, 2, 2]))"
            ]
          },
          "metadata": {},
          "execution_count": 19
        }
      ]
    },
    {
      "cell_type": "markdown",
      "source": [
        "есть пустые строки, В \"TotalSpent\" 9 объектов с пробелами вместо значений\n",
        "Заполним их нулями\n",
        "\n"
      ],
      "metadata": {
        "id": "Q-u4nAEDtt1p"
      }
    },
    {
      "cell_type": "code",
      "source": [
        "X['TotalSpent'] = X['TotalSpent'].replace(' ', 0)"
      ],
      "metadata": {
        "id": "JnJh6HKmwVj3"
      },
      "execution_count": null,
      "outputs": []
    },
    {
      "cell_type": "markdown",
      "source": [
        "Нормализуем данные"
      ],
      "metadata": {
        "id": "YGa6pYSEvLWR"
      }
    },
    {
      "cell_type": "code",
      "source": [
        "scl = StandardScaler()\n",
        "X = scl.fit_transform(X)"
      ],
      "metadata": {
        "id": "grrgSutE2Z1l"
      },
      "execution_count": null,
      "outputs": []
    },
    {
      "cell_type": "markdown",
      "source": [
        "Разделим данные на тренировочную и валидационную выборку"
      ],
      "metadata": {
        "id": "FWGlmYjPvPdE"
      }
    },
    {
      "cell_type": "code",
      "source": [
        "X_train, X_val, y_train, y_val = train_test_split(X, y, stratify=y,\n",
        "                                                    test_size=0.2, random_state=42)"
      ],
      "metadata": {
        "id": "9xl2kS4sl_H1"
      },
      "execution_count": null,
      "outputs": []
    },
    {
      "cell_type": "markdown",
      "source": [
        "Посмотрим как работают различные модели"
      ],
      "metadata": {
        "id": "3EQPr_Eg2nkS"
      }
    },
    {
      "cell_type": "code",
      "source": [
        "clf_1 = LogisticRegression()\n",
        "clf_1.fit(X_train, y_train)\n",
        "y_pred = clf_1.predict(X_val)\n",
        "print(roc_auc_score(y_val, y_pred))"
      ],
      "metadata": {
        "colab": {
          "base_uri": "https://localhost:8080/"
        },
        "id": "TVYK9RJfmRE8",
        "outputId": "ddba336d-515e-4536-fb1c-4ccd148bdd2f"
      },
      "execution_count": null,
      "outputs": [
        {
          "output_type": "stream",
          "name": "stdout",
          "text": [
            "0.7390267242385342\n"
          ]
        }
      ]
    },
    {
      "cell_type": "code",
      "source": [
        "from sklearn.naive_bayes import GaussianNB"
      ],
      "metadata": {
        "id": "eIaguUi62_CV"
      },
      "execution_count": null,
      "outputs": []
    },
    {
      "cell_type": "code",
      "source": [
        "clf_2 = GaussianNB()\n",
        "clf_2.fit(X_train, y_train)\n",
        "y_pred = clf_2.predict(X_val)\n",
        "print(roc_auc_score(y_val, y_pred))"
      ],
      "metadata": {
        "colab": {
          "base_uri": "https://localhost:8080/"
        },
        "id": "WqVKgiKQ3LfO",
        "outputId": "96a757bc-1e61-42a2-c4f4-0ef13fbe4c49"
      },
      "execution_count": null,
      "outputs": [
        {
          "output_type": "stream",
          "name": "stdout",
          "text": [
            "0.7421122651417901\n"
          ]
        }
      ]
    },
    {
      "cell_type": "code",
      "source": [
        "from sklearn.svm import LinearSVC"
      ],
      "metadata": {
        "id": "4hNDowca3WDM"
      },
      "execution_count": null,
      "outputs": []
    },
    {
      "cell_type": "code",
      "source": [
        "clf_3 = LinearSVC()\n",
        "clf_3.fit(X_train, y_train)\n",
        "y_pred = clf_3.predict(X_val)\n",
        "print(roc_auc_score(y_val, y_pred))"
      ],
      "metadata": {
        "colab": {
          "base_uri": "https://localhost:8080/"
        },
        "id": "Z-LnvvjD3mbR",
        "outputId": "3411a61c-f1f5-45c5-e3ab-8b9e7ceb99f9"
      },
      "execution_count": null,
      "outputs": [
        {
          "output_type": "stream",
          "name": "stdout",
          "text": [
            "0.7276905123118217\n"
          ]
        }
      ]
    },
    {
      "cell_type": "code",
      "source": [
        "from sklearn.ensemble import RandomForestClassifier"
      ],
      "metadata": {
        "id": "rh4VGQHS2sSy"
      },
      "execution_count": null,
      "outputs": []
    },
    {
      "cell_type": "code",
      "source": [
        "clf_4 = RandomForestClassifier()\n",
        "clf_4.fit(X_train, y_train)\n",
        "y_pred = clf_4.predict(X_val)\n",
        "print(roc_auc_score(y_val, y_pred))"
      ],
      "metadata": {
        "colab": {
          "base_uri": "https://localhost:8080/"
        },
        "id": "vzfHew-F227y",
        "outputId": "e62eb16f-2113-450b-905d-71e65a12ff62"
      },
      "execution_count": null,
      "outputs": [
        {
          "output_type": "stream",
          "name": "stdout",
          "text": [
            "0.6987069669739759\n"
          ]
        }
      ]
    },
    {
      "cell_type": "markdown",
      "source": [
        "Подберем параметры для RandomForestClassifier\n",
        "Сначала грубая оценка оптимальных параметров С помощью RandomizedSearchCV"
      ],
      "metadata": {
        "id": "HXC3Yvzl4rbG"
      }
    },
    {
      "cell_type": "code",
      "source": [
        "from sklearn.model_selection import RandomizedSearchCV, GridSearchCV\n",
        "\n",
        "\n",
        "n_estimators = list(range(100, 500, 5))\n",
        "max_features = ['auto', 'sqrt']\n",
        "\n",
        "max_depth = list(range(10, 100, 10))\n",
        "max_depth.append(None)\n",
        "\n",
        "min_samples_split = [2, 5, 10]\n",
        "\n",
        "min_samples_leaf = [1, 2, 4]\n",
        "\n",
        "bootstrap = [True, False]\n",
        "\n",
        "random_grid = {'n_estimators': n_estimators,\n",
        "               'max_features': max_features,\n",
        "               'max_depth': max_depth,\n",
        "               'min_samples_split': min_samples_split,\n",
        "               'min_samples_leaf': min_samples_leaf,\n",
        "               'bootstrap': bootstrap}\n",
        "\n",
        "rf_random = RandomizedSearchCV(estimator=clf_4, param_distributions=random_grid,\n",
        "                              n_iter = 50, scoring='roc_auc',\n",
        "                              cv = 3, verbose=2, random_state=42, n_jobs=-1)\n",
        "rf_random.fit(X_train, y_train)\n",
        "rf_random.best_params_\n",
        "\n"
      ],
      "metadata": {
        "colab": {
          "base_uri": "https://localhost:8080/"
        },
        "id": "h5AyQnrJ4qrd",
        "outputId": "ad59c025-e95c-4010-c1af-864c6a0b2728"
      },
      "execution_count": null,
      "outputs": [
        {
          "output_type": "stream",
          "name": "stdout",
          "text": [
            "Fitting 3 folds for each of 50 candidates, totalling 150 fits\n"
          ]
        },
        {
          "output_type": "execute_result",
          "data": {
            "text/plain": [
              "{'n_estimators': 435,\n",
              " 'min_samples_split': 2,\n",
              " 'min_samples_leaf': 4,\n",
              " 'max_features': 'sqrt',\n",
              " 'max_depth': 10,\n",
              " 'bootstrap': True}"
            ]
          },
          "metadata": {},
          "execution_count": 36
        }
      ]
    },
    {
      "cell_type": "markdown",
      "source": [
        " С помощью GridSearchCV более точно подберем параметры"
      ],
      "metadata": {
        "id": "XdmnEgvo8xcp"
      }
    },
    {
      "cell_type": "code",
      "source": [
        "params = {\n",
        "    'bootstrap': [True],\n",
        "    'max_depth': [60, 70, 80, 90],\n",
        "    'max_features': ['sqrt'],\n",
        "    'min_samples_leaf': [3, 4, 5],\n",
        "    'min_samples_split': [8, 9, 10],\n",
        "    'n_estimators': [350, 400, 450, 500, 550]\n",
        "}\n",
        "\n",
        "\n",
        "grid_search_rf = GridSearchCV(estimator = clf_4, param_grid = params,\n",
        "                           scoring = 'roc_auc', cv = 3,\n",
        "                           n_jobs = -1, verbose = 2)\n",
        "\n",
        "grid_search_rf.fit(X_train, y_train)\n",
        "y_pred = grid_search_rf.best_estimator_.predict(X_val)"
      ],
      "metadata": {
        "colab": {
          "base_uri": "https://localhost:8080/"
        },
        "id": "Gaw3ue6M8f-B",
        "outputId": "a5c9694f-0bba-4a1f-8de7-4f22040e05f4"
      },
      "execution_count": null,
      "outputs": [
        {
          "output_type": "stream",
          "name": "stdout",
          "text": [
            "Fitting 3 folds for each of 180 candidates, totalling 540 fits\n"
          ]
        }
      ]
    },
    {
      "cell_type": "code",
      "source": [
        "print(roc_auc_score(y_val, y_pred))"
      ],
      "metadata": {
        "colab": {
          "base_uri": "https://localhost:8080/"
        },
        "id": "-6nxtQS2-bUU",
        "outputId": "de641f58-21ab-4e72-d34a-d0f967fbc898"
      },
      "execution_count": null,
      "outputs": [
        {
          "output_type": "stream",
          "name": "stdout",
          "text": [
            "0.7191364219862294\n"
          ]
        }
      ]
    },
    {
      "cell_type": "markdown",
      "source": [
        "Рандомный лес отработал хуже, чем баесовский алгоритм"
      ],
      "metadata": {
        "id": "tfpQph0sBzfq"
      }
    },
    {
      "cell_type": "markdown",
      "source": [
        "#Применение градиентного бустинга (2 балла)\n",
        "Если вы хотите получить баллы за точный ответ, то стоит попробовать градиентный бустинг. Часто градиентный бустинг с дефолтными параметрами даст вам 80% результата за 0% усилий.\n",
        "\n",
        "Мы будем использовать catboost, поэтому нам не надо кодировать категориальные признаки. catboost сделает это сам (в .fit() надо передать cat_features=cat_cols). А численные признаки нормировать для моделей, основанных на деревьях не нужно.\n",
        "\n",
        "Разделите выборку на train/valid. Протестируйте catboost cо стандартными параметрами.\n",
        "\n",
        "Протестируйте разные занчения параметроа количества деревьев и learning_rate'а и выберите лучшую по метрике ROC-AUC комбинацию."
      ],
      "metadata": {
        "id": "cWpJiL6CDLQs"
      }
    },
    {
      "cell_type": "code",
      "source": [
        "!pip install catboost\n",
        "from catboost import CatBoostClassifier"
      ],
      "metadata": {
        "colab": {
          "base_uri": "https://localhost:8080/"
        },
        "id": "5Z2niaU4B9ZF",
        "outputId": "5477f69e-e412-4db7-b436-cde03f868c92"
      },
      "execution_count": null,
      "outputs": [
        {
          "output_type": "stream",
          "name": "stdout",
          "text": [
            "Collecting catboost\n",
            "  Downloading catboost-1.2.2-cp310-cp310-manylinux2014_x86_64.whl (98.7 MB)\n",
            "\u001b[2K     \u001b[90m━━━━━━━━━━━━━━━━━━━━━━━━━━━━━━━━━━━━━━━━\u001b[0m \u001b[32m98.7/98.7 MB\u001b[0m \u001b[31m9.3 MB/s\u001b[0m eta \u001b[36m0:00:00\u001b[0m\n",
            "\u001b[?25hRequirement already satisfied: graphviz in /usr/local/lib/python3.10/dist-packages (from catboost) (0.20.1)\n",
            "Requirement already satisfied: matplotlib in /usr/local/lib/python3.10/dist-packages (from catboost) (3.7.1)\n",
            "Requirement already satisfied: numpy>=1.16.0 in /usr/local/lib/python3.10/dist-packages (from catboost) (1.23.5)\n",
            "Requirement already satisfied: pandas>=0.24 in /usr/local/lib/python3.10/dist-packages (from catboost) (1.5.3)\n",
            "Requirement already satisfied: scipy in /usr/local/lib/python3.10/dist-packages (from catboost) (1.11.3)\n",
            "Requirement already satisfied: plotly in /usr/local/lib/python3.10/dist-packages (from catboost) (5.15.0)\n",
            "Requirement already satisfied: six in /usr/local/lib/python3.10/dist-packages (from catboost) (1.16.0)\n",
            "Requirement already satisfied: python-dateutil>=2.8.1 in /usr/local/lib/python3.10/dist-packages (from pandas>=0.24->catboost) (2.8.2)\n",
            "Requirement already satisfied: pytz>=2020.1 in /usr/local/lib/python3.10/dist-packages (from pandas>=0.24->catboost) (2023.3.post1)\n",
            "Requirement already satisfied: contourpy>=1.0.1 in /usr/local/lib/python3.10/dist-packages (from matplotlib->catboost) (1.1.1)\n",
            "Requirement already satisfied: cycler>=0.10 in /usr/local/lib/python3.10/dist-packages (from matplotlib->catboost) (0.12.1)\n",
            "Requirement already satisfied: fonttools>=4.22.0 in /usr/local/lib/python3.10/dist-packages (from matplotlib->catboost) (4.43.1)\n",
            "Requirement already satisfied: kiwisolver>=1.0.1 in /usr/local/lib/python3.10/dist-packages (from matplotlib->catboost) (1.4.5)\n",
            "Requirement already satisfied: packaging>=20.0 in /usr/local/lib/python3.10/dist-packages (from matplotlib->catboost) (23.2)\n",
            "Requirement already satisfied: pillow>=6.2.0 in /usr/local/lib/python3.10/dist-packages (from matplotlib->catboost) (9.4.0)\n",
            "Requirement already satisfied: pyparsing>=2.3.1 in /usr/local/lib/python3.10/dist-packages (from matplotlib->catboost) (3.1.1)\n",
            "Requirement already satisfied: tenacity>=6.2.0 in /usr/local/lib/python3.10/dist-packages (from plotly->catboost) (8.2.3)\n",
            "Installing collected packages: catboost\n",
            "Successfully installed catboost-1.2.2\n"
          ]
        }
      ]
    },
    {
      "cell_type": "code",
      "source": [
        "cb = CatBoostClassifier(iterations = 100, depth = 4, learning_rate = 0.1,  custom_loss = 'AUC',\n",
        "random_state = 42)"
      ],
      "metadata": {
        "id": "Q60rdWxhFLmZ"
      },
      "execution_count": null,
      "outputs": []
    },
    {
      "cell_type": "code",
      "source": [
        "cb.fit(X_train, y_train, eval_set=(X_val, y_val))"
      ],
      "metadata": {
        "colab": {
          "base_uri": "https://localhost:8080/"
        },
        "id": "E5JzkkHFFN9Y",
        "outputId": "cb8a8554-61fd-421a-d0ad-4fe0eada1dbd"
      },
      "execution_count": null,
      "outputs": [
        {
          "output_type": "stream",
          "name": "stdout",
          "text": [
            "0:\tlearn: 0.6560176\ttest: 0.6573930\tbest: 0.6573930 (0)\ttotal: 47.6ms\tremaining: 4.72s\n",
            "1:\tlearn: 0.6249694\ttest: 0.6267375\tbest: 0.6267375 (1)\ttotal: 49.7ms\tremaining: 2.43s\n",
            "2:\tlearn: 0.5971266\ttest: 0.5978474\tbest: 0.5978474 (2)\ttotal: 51.1ms\tremaining: 1.65s\n",
            "3:\tlearn: 0.5731815\ttest: 0.5740524\tbest: 0.5740524 (3)\ttotal: 52.5ms\tremaining: 1.26s\n",
            "4:\tlearn: 0.5544654\ttest: 0.5561950\tbest: 0.5561950 (4)\ttotal: 53.9ms\tremaining: 1.02s\n",
            "5:\tlearn: 0.5373080\ttest: 0.5397639\tbest: 0.5397639 (5)\ttotal: 55.4ms\tremaining: 869ms\n",
            "6:\tlearn: 0.5223167\ttest: 0.5240067\tbest: 0.5240067 (6)\ttotal: 56.9ms\tremaining: 756ms\n",
            "7:\tlearn: 0.5105565\ttest: 0.5133374\tbest: 0.5133374 (7)\ttotal: 58.5ms\tremaining: 672ms\n",
            "8:\tlearn: 0.4995189\ttest: 0.5031212\tbest: 0.5031212 (8)\ttotal: 59.9ms\tremaining: 606ms\n",
            "9:\tlearn: 0.4909265\ttest: 0.4954118\tbest: 0.4954118 (9)\ttotal: 61.1ms\tremaining: 550ms\n",
            "10:\tlearn: 0.4829184\ttest: 0.4880094\tbest: 0.4880094 (10)\ttotal: 62.4ms\tremaining: 505ms\n",
            "11:\tlearn: 0.4753657\ttest: 0.4793454\tbest: 0.4793454 (11)\ttotal: 65.6ms\tremaining: 481ms\n",
            "12:\tlearn: 0.4687151\ttest: 0.4732196\tbest: 0.4732196 (12)\ttotal: 66.9ms\tremaining: 448ms\n",
            "13:\tlearn: 0.4619364\ttest: 0.4667279\tbest: 0.4667279 (13)\ttotal: 68.4ms\tremaining: 420ms\n",
            "14:\tlearn: 0.4569749\ttest: 0.4625432\tbest: 0.4625432 (14)\ttotal: 69.9ms\tremaining: 396ms\n",
            "15:\tlearn: 0.4518021\ttest: 0.4577167\tbest: 0.4577167 (15)\ttotal: 71.3ms\tremaining: 375ms\n",
            "16:\tlearn: 0.4476270\ttest: 0.4542224\tbest: 0.4542224 (16)\ttotal: 73ms\tremaining: 356ms\n",
            "17:\tlearn: 0.4437364\ttest: 0.4508653\tbest: 0.4508653 (17)\ttotal: 74.7ms\tremaining: 340ms\n",
            "18:\tlearn: 0.4401797\ttest: 0.4482256\tbest: 0.4482256 (18)\ttotal: 76.2ms\tremaining: 325ms\n",
            "19:\tlearn: 0.4366381\ttest: 0.4442257\tbest: 0.4442257 (19)\ttotal: 77.7ms\tremaining: 311ms\n",
            "20:\tlearn: 0.4338144\ttest: 0.4410990\tbest: 0.4410990 (20)\ttotal: 79.1ms\tremaining: 298ms\n",
            "21:\tlearn: 0.4310927\ttest: 0.4383277\tbest: 0.4383277 (21)\ttotal: 80.6ms\tremaining: 286ms\n",
            "22:\tlearn: 0.4289815\ttest: 0.4366933\tbest: 0.4366933 (22)\ttotal: 82ms\tremaining: 275ms\n",
            "23:\tlearn: 0.4273837\ttest: 0.4347018\tbest: 0.4347018 (23)\ttotal: 84ms\tremaining: 266ms\n",
            "24:\tlearn: 0.4249509\ttest: 0.4322339\tbest: 0.4322339 (24)\ttotal: 85.5ms\tremaining: 257ms\n",
            "25:\tlearn: 0.4231671\ttest: 0.4307169\tbest: 0.4307169 (25)\ttotal: 86.9ms\tremaining: 247ms\n",
            "26:\tlearn: 0.4215450\ttest: 0.4297216\tbest: 0.4297216 (26)\ttotal: 88.4ms\tremaining: 239ms\n",
            "27:\tlearn: 0.4199863\ttest: 0.4289361\tbest: 0.4289361 (27)\ttotal: 90ms\tremaining: 231ms\n",
            "28:\tlearn: 0.4188921\ttest: 0.4277359\tbest: 0.4277359 (28)\ttotal: 91.5ms\tremaining: 224ms\n",
            "29:\tlearn: 0.4172488\ttest: 0.4266122\tbest: 0.4266122 (29)\ttotal: 93.3ms\tremaining: 218ms\n",
            "30:\tlearn: 0.4158562\ttest: 0.4253061\tbest: 0.4253061 (30)\ttotal: 95.2ms\tremaining: 212ms\n",
            "31:\tlearn: 0.4147833\ttest: 0.4243259\tbest: 0.4243259 (31)\ttotal: 96.7ms\tremaining: 205ms\n",
            "32:\tlearn: 0.4134911\ttest: 0.4236386\tbest: 0.4236386 (32)\ttotal: 98.1ms\tremaining: 199ms\n",
            "33:\tlearn: 0.4127948\ttest: 0.4231251\tbest: 0.4231251 (33)\ttotal: 99.2ms\tremaining: 193ms\n",
            "34:\tlearn: 0.4116403\ttest: 0.4220572\tbest: 0.4220572 (34)\ttotal: 101ms\tremaining: 187ms\n",
            "35:\tlearn: 0.4107132\ttest: 0.4212630\tbest: 0.4212630 (35)\ttotal: 102ms\tremaining: 181ms\n",
            "36:\tlearn: 0.4099410\ttest: 0.4203539\tbest: 0.4203539 (36)\ttotal: 103ms\tremaining: 176ms\n",
            "37:\tlearn: 0.4094722\ttest: 0.4201515\tbest: 0.4201515 (37)\ttotal: 105ms\tremaining: 171ms\n",
            "38:\tlearn: 0.4088684\ttest: 0.4195427\tbest: 0.4195427 (38)\ttotal: 106ms\tremaining: 166ms\n",
            "39:\tlearn: 0.4084231\ttest: 0.4190276\tbest: 0.4190276 (39)\ttotal: 108ms\tremaining: 161ms\n",
            "40:\tlearn: 0.4077767\ttest: 0.4185020\tbest: 0.4185020 (40)\ttotal: 109ms\tremaining: 157ms\n",
            "41:\tlearn: 0.4072149\ttest: 0.4184474\tbest: 0.4184474 (41)\ttotal: 111ms\tremaining: 153ms\n",
            "42:\tlearn: 0.4066775\ttest: 0.4180635\tbest: 0.4180635 (42)\ttotal: 112ms\tremaining: 149ms\n",
            "43:\tlearn: 0.4060795\ttest: 0.4176058\tbest: 0.4176058 (43)\ttotal: 114ms\tremaining: 145ms\n",
            "44:\tlearn: 0.4054095\ttest: 0.4172152\tbest: 0.4172152 (44)\ttotal: 115ms\tremaining: 141ms\n",
            "45:\tlearn: 0.4050357\ttest: 0.4170305\tbest: 0.4170305 (45)\ttotal: 116ms\tremaining: 137ms\n",
            "46:\tlearn: 0.4046511\ttest: 0.4168939\tbest: 0.4168939 (46)\ttotal: 118ms\tremaining: 133ms\n",
            "47:\tlearn: 0.4040629\ttest: 0.4162974\tbest: 0.4162974 (47)\ttotal: 119ms\tremaining: 129ms\n",
            "48:\tlearn: 0.4036235\ttest: 0.4156961\tbest: 0.4156961 (48)\ttotal: 121ms\tremaining: 126ms\n",
            "49:\tlearn: 0.4030736\ttest: 0.4147686\tbest: 0.4147686 (49)\ttotal: 122ms\tremaining: 122ms\n",
            "50:\tlearn: 0.4026151\ttest: 0.4147262\tbest: 0.4147262 (50)\ttotal: 124ms\tremaining: 119ms\n",
            "51:\tlearn: 0.4020735\ttest: 0.4144859\tbest: 0.4144859 (51)\ttotal: 125ms\tremaining: 116ms\n",
            "52:\tlearn: 0.4016876\ttest: 0.4146347\tbest: 0.4144859 (51)\ttotal: 127ms\tremaining: 112ms\n",
            "53:\tlearn: 0.4012632\ttest: 0.4148291\tbest: 0.4144859 (51)\ttotal: 128ms\tremaining: 109ms\n",
            "54:\tlearn: 0.4008936\ttest: 0.4147542\tbest: 0.4144859 (51)\ttotal: 130ms\tremaining: 106ms\n",
            "55:\tlearn: 0.4003608\ttest: 0.4143104\tbest: 0.4143104 (55)\ttotal: 131ms\tremaining: 103ms\n",
            "56:\tlearn: 0.3999781\ttest: 0.4138473\tbest: 0.4138473 (56)\ttotal: 132ms\tremaining: 99.8ms\n",
            "57:\tlearn: 0.3995629\ttest: 0.4133622\tbest: 0.4133622 (57)\ttotal: 134ms\tremaining: 96.8ms\n",
            "58:\tlearn: 0.3993206\ttest: 0.4129184\tbest: 0.4129184 (58)\ttotal: 135ms\tremaining: 93.9ms\n",
            "59:\tlearn: 0.3988927\ttest: 0.4128981\tbest: 0.4128981 (59)\ttotal: 137ms\tremaining: 91.1ms\n",
            "60:\tlearn: 0.3985648\ttest: 0.4128730\tbest: 0.4128730 (60)\ttotal: 138ms\tremaining: 88.2ms\n",
            "61:\tlearn: 0.3982688\ttest: 0.4127555\tbest: 0.4127555 (61)\ttotal: 139ms\tremaining: 85.4ms\n",
            "62:\tlearn: 0.3979282\ttest: 0.4128099\tbest: 0.4127555 (61)\ttotal: 141ms\tremaining: 82.7ms\n",
            "63:\tlearn: 0.3975713\ttest: 0.4126248\tbest: 0.4126248 (63)\ttotal: 142ms\tremaining: 79.9ms\n",
            "64:\tlearn: 0.3973097\ttest: 0.4127630\tbest: 0.4126248 (63)\ttotal: 144ms\tremaining: 77.3ms\n",
            "65:\tlearn: 0.3970530\ttest: 0.4126700\tbest: 0.4126248 (63)\ttotal: 145ms\tremaining: 74.7ms\n",
            "66:\tlearn: 0.3969230\ttest: 0.4127003\tbest: 0.4126248 (63)\ttotal: 147ms\tremaining: 72.2ms\n",
            "67:\tlearn: 0.3965118\ttest: 0.4126736\tbest: 0.4126248 (63)\ttotal: 148ms\tremaining: 69.6ms\n",
            "68:\tlearn: 0.3964627\ttest: 0.4125529\tbest: 0.4125529 (68)\ttotal: 149ms\tremaining: 67.1ms\n",
            "69:\tlearn: 0.3962314\ttest: 0.4125388\tbest: 0.4125388 (69)\ttotal: 151ms\tremaining: 64.7ms\n",
            "70:\tlearn: 0.3957507\ttest: 0.4125045\tbest: 0.4125045 (70)\ttotal: 152ms\tremaining: 62.3ms\n",
            "71:\tlearn: 0.3955764\ttest: 0.4126598\tbest: 0.4125045 (70)\ttotal: 154ms\tremaining: 59.8ms\n",
            "72:\tlearn: 0.3953225\ttest: 0.4125689\tbest: 0.4125045 (70)\ttotal: 155ms\tremaining: 57.4ms\n",
            "73:\tlearn: 0.3949511\ttest: 0.4123670\tbest: 0.4123670 (73)\ttotal: 157ms\tremaining: 55ms\n",
            "74:\tlearn: 0.3946391\ttest: 0.4121294\tbest: 0.4121294 (74)\ttotal: 158ms\tremaining: 52.7ms\n",
            "75:\tlearn: 0.3943344\ttest: 0.4121664\tbest: 0.4121294 (74)\ttotal: 159ms\tremaining: 50.3ms\n",
            "76:\tlearn: 0.3941339\ttest: 0.4122596\tbest: 0.4121294 (74)\ttotal: 161ms\tremaining: 48ms\n",
            "77:\tlearn: 0.3937836\ttest: 0.4118517\tbest: 0.4118517 (77)\ttotal: 162ms\tremaining: 45.7ms\n",
            "78:\tlearn: 0.3935734\ttest: 0.4118512\tbest: 0.4118512 (78)\ttotal: 164ms\tremaining: 43.5ms\n",
            "79:\tlearn: 0.3933089\ttest: 0.4117855\tbest: 0.4117855 (79)\ttotal: 165ms\tremaining: 41.2ms\n",
            "80:\tlearn: 0.3931427\ttest: 0.4118075\tbest: 0.4117855 (79)\ttotal: 166ms\tremaining: 39ms\n",
            "81:\tlearn: 0.3927278\ttest: 0.4115061\tbest: 0.4115061 (81)\ttotal: 168ms\tremaining: 36.8ms\n",
            "82:\tlearn: 0.3925825\ttest: 0.4116113\tbest: 0.4115061 (81)\ttotal: 169ms\tremaining: 34.6ms\n",
            "83:\tlearn: 0.3923729\ttest: 0.4115458\tbest: 0.4115061 (81)\ttotal: 171ms\tremaining: 32.5ms\n",
            "84:\tlearn: 0.3917577\ttest: 0.4113132\tbest: 0.4113132 (84)\ttotal: 172ms\tremaining: 30.4ms\n",
            "85:\tlearn: 0.3914599\ttest: 0.4112180\tbest: 0.4112180 (85)\ttotal: 173ms\tremaining: 28.2ms\n",
            "86:\tlearn: 0.3910027\ttest: 0.4112622\tbest: 0.4112180 (85)\ttotal: 175ms\tremaining: 26.1ms\n",
            "87:\tlearn: 0.3908031\ttest: 0.4114100\tbest: 0.4112180 (85)\ttotal: 176ms\tremaining: 24ms\n",
            "88:\tlearn: 0.3904895\ttest: 0.4115398\tbest: 0.4112180 (85)\ttotal: 178ms\tremaining: 21.9ms\n",
            "89:\tlearn: 0.3903234\ttest: 0.4116984\tbest: 0.4112180 (85)\ttotal: 179ms\tremaining: 19.9ms\n",
            "90:\tlearn: 0.3900703\ttest: 0.4117416\tbest: 0.4112180 (85)\ttotal: 180ms\tremaining: 17.8ms\n",
            "91:\tlearn: 0.3898061\ttest: 0.4118405\tbest: 0.4112180 (85)\ttotal: 182ms\tremaining: 15.8ms\n",
            "92:\tlearn: 0.3894938\ttest: 0.4118399\tbest: 0.4112180 (85)\ttotal: 183ms\tremaining: 13.8ms\n",
            "93:\tlearn: 0.3893597\ttest: 0.4119770\tbest: 0.4112180 (85)\ttotal: 184ms\tremaining: 11.8ms\n",
            "94:\tlearn: 0.3891109\ttest: 0.4118329\tbest: 0.4112180 (85)\ttotal: 186ms\tremaining: 9.78ms\n",
            "95:\tlearn: 0.3888182\ttest: 0.4117352\tbest: 0.4112180 (85)\ttotal: 187ms\tremaining: 7.8ms\n",
            "96:\tlearn: 0.3886052\ttest: 0.4119077\tbest: 0.4112180 (85)\ttotal: 189ms\tremaining: 5.83ms\n",
            "97:\tlearn: 0.3883846\ttest: 0.4117592\tbest: 0.4112180 (85)\ttotal: 190ms\tremaining: 3.88ms\n",
            "98:\tlearn: 0.3882690\ttest: 0.4117428\tbest: 0.4112180 (85)\ttotal: 191ms\tremaining: 1.93ms\n",
            "99:\tlearn: 0.3881615\ttest: 0.4117287\tbest: 0.4112180 (85)\ttotal: 193ms\tremaining: 0us\n",
            "\n",
            "bestTest = 0.4112180224\n",
            "bestIteration = 85\n",
            "\n",
            "Shrink model to first 86 iterations.\n"
          ]
        },
        {
          "output_type": "execute_result",
          "data": {
            "text/plain": [
              "<catboost.core.CatBoostClassifier at 0x7a27d05ecdc0>"
            ]
          },
          "metadata": {},
          "execution_count": 32
        }
      ]
    },
    {
      "cell_type": "code",
      "source": [
        "y_pred = cb.predict_proba(X_val)"
      ],
      "metadata": {
        "id": "TZBoRBPhFma1"
      },
      "execution_count": null,
      "outputs": []
    },
    {
      "cell_type": "code",
      "source": [
        "roc_auc = roc_auc_score(y_val, y_pred[:, 1])\n",
        "roc_auc"
      ],
      "metadata": {
        "colab": {
          "base_uri": "https://localhost:8080/"
        },
        "id": "MRRJZA-YFtqR",
        "outputId": "1f3e6655-268e-4c03-a4b3-3a78091d4f2f"
      },
      "execution_count": null,
      "outputs": [
        {
          "output_type": "execute_result",
          "data": {
            "text/plain": [
              "0.845858326525849"
            ]
          },
          "metadata": {},
          "execution_count": 34
        }
      ]
    },
    {
      "cell_type": "markdown",
      "source": [
        "Градиентный бустинг показал лучшие результаты. Будем его использовать для финальных предсказаний"
      ],
      "metadata": {
        "id": "YUEJTsZNwYYI"
      }
    },
    {
      "cell_type": "markdown",
      "source": [
        "#Предсказания"
      ],
      "metadata": {
        "id": "5WcLlFJ5G2_a"
      }
    },
    {
      "cell_type": "markdown",
      "source": [
        "Обучимся на всех данных"
      ],
      "metadata": {
        "id": "0sFuk4tYwmkE"
      }
    },
    {
      "cell_type": "code",
      "source": [
        "cb.fit(X, y)"
      ],
      "metadata": {
        "colab": {
          "base_uri": "https://localhost:8080/"
        },
        "id": "yY1P3h-jGc_I",
        "outputId": "1f6a325e-1120-4251-e4bc-a437beac26b4"
      },
      "execution_count": null,
      "outputs": [
        {
          "output_type": "stream",
          "name": "stdout",
          "text": [
            "0:\tlearn: 0.6552014\ttotal: 1.98ms\tremaining: 196ms\n",
            "1:\tlearn: 0.6240163\ttotal: 3.54ms\tremaining: 174ms\n",
            "2:\tlearn: 0.5958409\ttotal: 5.06ms\tremaining: 164ms\n",
            "3:\tlearn: 0.5723066\ttotal: 6.49ms\tremaining: 156ms\n",
            "4:\tlearn: 0.5522442\ttotal: 7.59ms\tremaining: 144ms\n",
            "5:\tlearn: 0.5354483\ttotal: 9.14ms\tremaining: 143ms\n",
            "6:\tlearn: 0.5204389\ttotal: 10.7ms\tremaining: 142ms\n",
            "7:\tlearn: 0.5087301\ttotal: 12.2ms\tremaining: 140ms\n",
            "8:\tlearn: 0.4984990\ttotal: 13.5ms\tremaining: 136ms\n",
            "9:\tlearn: 0.4894576\ttotal: 15ms\tremaining: 135ms\n",
            "10:\tlearn: 0.4815094\ttotal: 16.6ms\tremaining: 134ms\n",
            "11:\tlearn: 0.4741321\ttotal: 18.1ms\tremaining: 133ms\n",
            "12:\tlearn: 0.4676484\ttotal: 19.4ms\tremaining: 130ms\n",
            "13:\tlearn: 0.4609437\ttotal: 20.8ms\tremaining: 128ms\n",
            "14:\tlearn: 0.4556532\ttotal: 22.3ms\tremaining: 126ms\n",
            "15:\tlearn: 0.4506808\ttotal: 23.7ms\tremaining: 124ms\n",
            "16:\tlearn: 0.4468098\ttotal: 25.1ms\tremaining: 123ms\n",
            "17:\tlearn: 0.4431482\ttotal: 26.6ms\tremaining: 121ms\n",
            "18:\tlearn: 0.4395195\ttotal: 28.1ms\tremaining: 120ms\n",
            "19:\tlearn: 0.4363959\ttotal: 29.5ms\tremaining: 118ms\n",
            "20:\tlearn: 0.4336325\ttotal: 31ms\tremaining: 117ms\n",
            "21:\tlearn: 0.4310901\ttotal: 32.5ms\tremaining: 115ms\n",
            "22:\tlearn: 0.4289534\ttotal: 34ms\tremaining: 114ms\n",
            "23:\tlearn: 0.4272876\ttotal: 35.5ms\tremaining: 112ms\n",
            "24:\tlearn: 0.4249407\ttotal: 36.9ms\tremaining: 111ms\n",
            "25:\tlearn: 0.4231306\ttotal: 38ms\tremaining: 108ms\n",
            "26:\tlearn: 0.4216633\ttotal: 39.6ms\tremaining: 107ms\n",
            "27:\tlearn: 0.4203489\ttotal: 41.1ms\tremaining: 106ms\n",
            "28:\tlearn: 0.4192909\ttotal: 42.5ms\tremaining: 104ms\n",
            "29:\tlearn: 0.4177428\ttotal: 43.9ms\tremaining: 102ms\n",
            "30:\tlearn: 0.4165540\ttotal: 45.4ms\tremaining: 101ms\n",
            "31:\tlearn: 0.4153911\ttotal: 46.9ms\tremaining: 99.6ms\n",
            "32:\tlearn: 0.4142908\ttotal: 48.4ms\tremaining: 98.2ms\n",
            "33:\tlearn: 0.4131247\ttotal: 49.8ms\tremaining: 96.7ms\n",
            "34:\tlearn: 0.4122567\ttotal: 51.3ms\tremaining: 95.2ms\n",
            "35:\tlearn: 0.4115758\ttotal: 52.8ms\tremaining: 93.9ms\n",
            "36:\tlearn: 0.4106683\ttotal: 54.3ms\tremaining: 92.5ms\n",
            "37:\tlearn: 0.4100697\ttotal: 55.7ms\tremaining: 90.8ms\n",
            "38:\tlearn: 0.4094961\ttotal: 57.1ms\tremaining: 89.4ms\n",
            "39:\tlearn: 0.4087353\ttotal: 58.6ms\tremaining: 87.9ms\n",
            "40:\tlearn: 0.4081298\ttotal: 60ms\tremaining: 86.3ms\n",
            "41:\tlearn: 0.4073812\ttotal: 61.4ms\tremaining: 84.7ms\n",
            "42:\tlearn: 0.4069495\ttotal: 62.7ms\tremaining: 83.2ms\n",
            "43:\tlearn: 0.4064838\ttotal: 64.2ms\tremaining: 81.8ms\n",
            "44:\tlearn: 0.4059747\ttotal: 65.7ms\tremaining: 80.3ms\n",
            "45:\tlearn: 0.4054430\ttotal: 67.2ms\tremaining: 78.9ms\n",
            "46:\tlearn: 0.4049860\ttotal: 68.6ms\tremaining: 77.4ms\n",
            "47:\tlearn: 0.4045150\ttotal: 69.9ms\tremaining: 75.7ms\n",
            "48:\tlearn: 0.4040257\ttotal: 71.3ms\tremaining: 74.3ms\n",
            "49:\tlearn: 0.4036318\ttotal: 72.8ms\tremaining: 72.8ms\n",
            "50:\tlearn: 0.4032096\ttotal: 74.2ms\tremaining: 71.3ms\n",
            "51:\tlearn: 0.4028402\ttotal: 75.6ms\tremaining: 69.8ms\n",
            "52:\tlearn: 0.4025618\ttotal: 77.2ms\tremaining: 68.5ms\n",
            "53:\tlearn: 0.4021028\ttotal: 78.8ms\tremaining: 67.1ms\n",
            "54:\tlearn: 0.4019839\ttotal: 80.1ms\tremaining: 65.5ms\n",
            "55:\tlearn: 0.4016314\ttotal: 81.5ms\tremaining: 64ms\n",
            "56:\tlearn: 0.4013372\ttotal: 83ms\tremaining: 62.6ms\n",
            "57:\tlearn: 0.4009426\ttotal: 86.1ms\tremaining: 62.4ms\n",
            "58:\tlearn: 0.4006679\ttotal: 87.7ms\tremaining: 60.9ms\n",
            "59:\tlearn: 0.4002518\ttotal: 89ms\tremaining: 59.4ms\n",
            "60:\tlearn: 0.3999186\ttotal: 90.5ms\tremaining: 57.9ms\n",
            "61:\tlearn: 0.3996835\ttotal: 92ms\tremaining: 56.4ms\n",
            "62:\tlearn: 0.3994160\ttotal: 93.4ms\tremaining: 54.8ms\n",
            "63:\tlearn: 0.3991956\ttotal: 94.8ms\tremaining: 53.3ms\n",
            "64:\tlearn: 0.3990142\ttotal: 96.3ms\tremaining: 51.9ms\n",
            "65:\tlearn: 0.3986348\ttotal: 97.8ms\tremaining: 50.4ms\n",
            "66:\tlearn: 0.3983286\ttotal: 98.9ms\tremaining: 48.7ms\n",
            "67:\tlearn: 0.3979840\ttotal: 100ms\tremaining: 47.2ms\n",
            "68:\tlearn: 0.3977546\ttotal: 103ms\tremaining: 46.4ms\n",
            "69:\tlearn: 0.3975139\ttotal: 105ms\tremaining: 44.8ms\n",
            "70:\tlearn: 0.3972568\ttotal: 109ms\tremaining: 44.5ms\n",
            "71:\tlearn: 0.3970278\ttotal: 112ms\tremaining: 43.4ms\n",
            "72:\tlearn: 0.3967687\ttotal: 113ms\tremaining: 41.9ms\n",
            "73:\tlearn: 0.3965003\ttotal: 115ms\tremaining: 40.3ms\n",
            "74:\tlearn: 0.3962805\ttotal: 116ms\tremaining: 38.8ms\n",
            "75:\tlearn: 0.3960245\ttotal: 118ms\tremaining: 37.2ms\n",
            "76:\tlearn: 0.3958617\ttotal: 119ms\tremaining: 35.6ms\n",
            "77:\tlearn: 0.3955682\ttotal: 121ms\tremaining: 34ms\n",
            "78:\tlearn: 0.3952735\ttotal: 122ms\tremaining: 32.5ms\n",
            "79:\tlearn: 0.3950829\ttotal: 126ms\tremaining: 31.4ms\n",
            "80:\tlearn: 0.3948485\ttotal: 127ms\tremaining: 29.8ms\n",
            "81:\tlearn: 0.3947045\ttotal: 128ms\tremaining: 28.2ms\n",
            "82:\tlearn: 0.3945374\ttotal: 130ms\tremaining: 26.6ms\n",
            "83:\tlearn: 0.3943853\ttotal: 131ms\tremaining: 25ms\n",
            "84:\tlearn: 0.3942748\ttotal: 133ms\tremaining: 23.4ms\n",
            "85:\tlearn: 0.3940844\ttotal: 134ms\tremaining: 21.8ms\n",
            "86:\tlearn: 0.3937845\ttotal: 135ms\tremaining: 20.2ms\n",
            "87:\tlearn: 0.3935423\ttotal: 137ms\tremaining: 18.6ms\n",
            "88:\tlearn: 0.3932961\ttotal: 138ms\tremaining: 17.1ms\n",
            "89:\tlearn: 0.3931135\ttotal: 139ms\tremaining: 15.5ms\n",
            "90:\tlearn: 0.3928480\ttotal: 141ms\tremaining: 13.9ms\n",
            "91:\tlearn: 0.3925866\ttotal: 142ms\tremaining: 12.4ms\n",
            "92:\tlearn: 0.3923157\ttotal: 144ms\tremaining: 10.8ms\n",
            "93:\tlearn: 0.3921490\ttotal: 145ms\tremaining: 9.26ms\n",
            "94:\tlearn: 0.3919262\ttotal: 147ms\tremaining: 7.73ms\n",
            "95:\tlearn: 0.3916214\ttotal: 148ms\tremaining: 6.18ms\n",
            "96:\tlearn: 0.3915130\ttotal: 150ms\tremaining: 4.63ms\n",
            "97:\tlearn: 0.3913045\ttotal: 151ms\tremaining: 3.08ms\n",
            "98:\tlearn: 0.3911305\ttotal: 153ms\tremaining: 1.54ms\n",
            "99:\tlearn: 0.3910211\ttotal: 154ms\tremaining: 0us\n"
          ]
        },
        {
          "output_type": "execute_result",
          "data": {
            "text/plain": [
              "<catboost.core.CatBoostClassifier at 0x7a27d05ecdc0>"
            ]
          },
          "metadata": {},
          "execution_count": 35
        }
      ]
    },
    {
      "cell_type": "code",
      "source": [
        "X_test = pd.read_csv('/content/test.csv')"
      ],
      "metadata": {
        "id": "dOzDiuQLHFhB"
      },
      "execution_count": null,
      "outputs": []
    },
    {
      "cell_type": "code",
      "source": [
        "X_test['TotalSpent'] = X_test['TotalSpent'].replace(' ', 0)"
      ],
      "metadata": {
        "id": "_Mnqrw9tHSU1"
      },
      "execution_count": null,
      "outputs": []
    },
    {
      "cell_type": "code",
      "source": [
        "for cat_col in X_test[cat_cols]:\n",
        "    X_test[cat_col] = le.fit_transform(X_test[cat_col])"
      ],
      "metadata": {
        "id": "muz_ik_IHgi5"
      },
      "execution_count": null,
      "outputs": []
    },
    {
      "cell_type": "code",
      "source": [
        "X_test = scl.fit_transform(X_test)"
      ],
      "metadata": {
        "id": "Od_kYPP1HoYt"
      },
      "execution_count": null,
      "outputs": []
    },
    {
      "cell_type": "code",
      "source": [
        "submission = pd.read_csv('/content/submission.csv',  index_col = 'Id')\n",
        "submission['Churn'] = cb.predict(X_test)\n",
        "submission.to_csv('./my_submission.csv')\n"
      ],
      "metadata": {
        "id": "VvUJBvE_H_Da"
      },
      "execution_count": null,
      "outputs": []
    },
    {
      "cell_type": "code",
      "source": [
        "submission.head()"
      ],
      "metadata": {
        "colab": {
          "base_uri": "https://localhost:8080/",
          "height": 237
        },
        "id": "LolCFFdxI9yM",
        "outputId": "b2679219-6a97-4686-90a0-6752a006deb8"
      },
      "execution_count": null,
      "outputs": [
        {
          "output_type": "execute_result",
          "data": {
            "text/plain": [
              "    Churn\n",
              "Id       \n",
              "0       0\n",
              "1       1\n",
              "2       1\n",
              "3       0\n",
              "4       0"
            ],
            "text/html": [
              "\n",
              "  <div id=\"df-172bf12d-cd9f-4b1c-aec4-45e341df8893\" class=\"colab-df-container\">\n",
              "    <div>\n",
              "<style scoped>\n",
              "    .dataframe tbody tr th:only-of-type {\n",
              "        vertical-align: middle;\n",
              "    }\n",
              "\n",
              "    .dataframe tbody tr th {\n",
              "        vertical-align: top;\n",
              "    }\n",
              "\n",
              "    .dataframe thead th {\n",
              "        text-align: right;\n",
              "    }\n",
              "</style>\n",
              "<table border=\"1\" class=\"dataframe\">\n",
              "  <thead>\n",
              "    <tr style=\"text-align: right;\">\n",
              "      <th></th>\n",
              "      <th>Churn</th>\n",
              "    </tr>\n",
              "    <tr>\n",
              "      <th>Id</th>\n",
              "      <th></th>\n",
              "    </tr>\n",
              "  </thead>\n",
              "  <tbody>\n",
              "    <tr>\n",
              "      <th>0</th>\n",
              "      <td>0</td>\n",
              "    </tr>\n",
              "    <tr>\n",
              "      <th>1</th>\n",
              "      <td>1</td>\n",
              "    </tr>\n",
              "    <tr>\n",
              "      <th>2</th>\n",
              "      <td>1</td>\n",
              "    </tr>\n",
              "    <tr>\n",
              "      <th>3</th>\n",
              "      <td>0</td>\n",
              "    </tr>\n",
              "    <tr>\n",
              "      <th>4</th>\n",
              "      <td>0</td>\n",
              "    </tr>\n",
              "  </tbody>\n",
              "</table>\n",
              "</div>\n",
              "    <div class=\"colab-df-buttons\">\n",
              "\n",
              "  <div class=\"colab-df-container\">\n",
              "    <button class=\"colab-df-convert\" onclick=\"convertToInteractive('df-172bf12d-cd9f-4b1c-aec4-45e341df8893')\"\n",
              "            title=\"Convert this dataframe to an interactive table.\"\n",
              "            style=\"display:none;\">\n",
              "\n",
              "  <svg xmlns=\"http://www.w3.org/2000/svg\" height=\"24px\" viewBox=\"0 -960 960 960\">\n",
              "    <path d=\"M120-120v-720h720v720H120Zm60-500h600v-160H180v160Zm220 220h160v-160H400v160Zm0 220h160v-160H400v160ZM180-400h160v-160H180v160Zm440 0h160v-160H620v160ZM180-180h160v-160H180v160Zm440 0h160v-160H620v160Z\"/>\n",
              "  </svg>\n",
              "    </button>\n",
              "\n",
              "  <style>\n",
              "    .colab-df-container {\n",
              "      display:flex;\n",
              "      gap: 12px;\n",
              "    }\n",
              "\n",
              "    .colab-df-convert {\n",
              "      background-color: #E8F0FE;\n",
              "      border: none;\n",
              "      border-radius: 50%;\n",
              "      cursor: pointer;\n",
              "      display: none;\n",
              "      fill: #1967D2;\n",
              "      height: 32px;\n",
              "      padding: 0 0 0 0;\n",
              "      width: 32px;\n",
              "    }\n",
              "\n",
              "    .colab-df-convert:hover {\n",
              "      background-color: #E2EBFA;\n",
              "      box-shadow: 0px 1px 2px rgba(60, 64, 67, 0.3), 0px 1px 3px 1px rgba(60, 64, 67, 0.15);\n",
              "      fill: #174EA6;\n",
              "    }\n",
              "\n",
              "    .colab-df-buttons div {\n",
              "      margin-bottom: 4px;\n",
              "    }\n",
              "\n",
              "    [theme=dark] .colab-df-convert {\n",
              "      background-color: #3B4455;\n",
              "      fill: #D2E3FC;\n",
              "    }\n",
              "\n",
              "    [theme=dark] .colab-df-convert:hover {\n",
              "      background-color: #434B5C;\n",
              "      box-shadow: 0px 1px 3px 1px rgba(0, 0, 0, 0.15);\n",
              "      filter: drop-shadow(0px 1px 2px rgba(0, 0, 0, 0.3));\n",
              "      fill: #FFFFFF;\n",
              "    }\n",
              "  </style>\n",
              "\n",
              "    <script>\n",
              "      const buttonEl =\n",
              "        document.querySelector('#df-172bf12d-cd9f-4b1c-aec4-45e341df8893 button.colab-df-convert');\n",
              "      buttonEl.style.display =\n",
              "        google.colab.kernel.accessAllowed ? 'block' : 'none';\n",
              "\n",
              "      async function convertToInteractive(key) {\n",
              "        const element = document.querySelector('#df-172bf12d-cd9f-4b1c-aec4-45e341df8893');\n",
              "        const dataTable =\n",
              "          await google.colab.kernel.invokeFunction('convertToInteractive',\n",
              "                                                    [key], {});\n",
              "        if (!dataTable) return;\n",
              "\n",
              "        const docLinkHtml = 'Like what you see? Visit the ' +\n",
              "          '<a target=\"_blank\" href=https://colab.research.google.com/notebooks/data_table.ipynb>data table notebook</a>'\n",
              "          + ' to learn more about interactive tables.';\n",
              "        element.innerHTML = '';\n",
              "        dataTable['output_type'] = 'display_data';\n",
              "        await google.colab.output.renderOutput(dataTable, element);\n",
              "        const docLink = document.createElement('div');\n",
              "        docLink.innerHTML = docLinkHtml;\n",
              "        element.appendChild(docLink);\n",
              "      }\n",
              "    </script>\n",
              "  </div>\n",
              "\n",
              "\n",
              "<div id=\"df-1e530857-0929-4d18-8f38-30607c7c60e3\">\n",
              "  <button class=\"colab-df-quickchart\" onclick=\"quickchart('df-1e530857-0929-4d18-8f38-30607c7c60e3')\"\n",
              "            title=\"Suggest charts.\"\n",
              "            style=\"display:none;\">\n",
              "\n",
              "<svg xmlns=\"http://www.w3.org/2000/svg\" height=\"24px\"viewBox=\"0 0 24 24\"\n",
              "     width=\"24px\">\n",
              "    <g>\n",
              "        <path d=\"M19 3H5c-1.1 0-2 .9-2 2v14c0 1.1.9 2 2 2h14c1.1 0 2-.9 2-2V5c0-1.1-.9-2-2-2zM9 17H7v-7h2v7zm4 0h-2V7h2v10zm4 0h-2v-4h2v4z\"/>\n",
              "    </g>\n",
              "</svg>\n",
              "  </button>\n",
              "\n",
              "<style>\n",
              "  .colab-df-quickchart {\n",
              "      --bg-color: #E8F0FE;\n",
              "      --fill-color: #1967D2;\n",
              "      --hover-bg-color: #E2EBFA;\n",
              "      --hover-fill-color: #174EA6;\n",
              "      --disabled-fill-color: #AAA;\n",
              "      --disabled-bg-color: #DDD;\n",
              "  }\n",
              "\n",
              "  [theme=dark] .colab-df-quickchart {\n",
              "      --bg-color: #3B4455;\n",
              "      --fill-color: #D2E3FC;\n",
              "      --hover-bg-color: #434B5C;\n",
              "      --hover-fill-color: #FFFFFF;\n",
              "      --disabled-bg-color: #3B4455;\n",
              "      --disabled-fill-color: #666;\n",
              "  }\n",
              "\n",
              "  .colab-df-quickchart {\n",
              "    background-color: var(--bg-color);\n",
              "    border: none;\n",
              "    border-radius: 50%;\n",
              "    cursor: pointer;\n",
              "    display: none;\n",
              "    fill: var(--fill-color);\n",
              "    height: 32px;\n",
              "    padding: 0;\n",
              "    width: 32px;\n",
              "  }\n",
              "\n",
              "  .colab-df-quickchart:hover {\n",
              "    background-color: var(--hover-bg-color);\n",
              "    box-shadow: 0 1px 2px rgba(60, 64, 67, 0.3), 0 1px 3px 1px rgba(60, 64, 67, 0.15);\n",
              "    fill: var(--button-hover-fill-color);\n",
              "  }\n",
              "\n",
              "  .colab-df-quickchart-complete:disabled,\n",
              "  .colab-df-quickchart-complete:disabled:hover {\n",
              "    background-color: var(--disabled-bg-color);\n",
              "    fill: var(--disabled-fill-color);\n",
              "    box-shadow: none;\n",
              "  }\n",
              "\n",
              "  .colab-df-spinner {\n",
              "    border: 2px solid var(--fill-color);\n",
              "    border-color: transparent;\n",
              "    border-bottom-color: var(--fill-color);\n",
              "    animation:\n",
              "      spin 1s steps(1) infinite;\n",
              "  }\n",
              "\n",
              "  @keyframes spin {\n",
              "    0% {\n",
              "      border-color: transparent;\n",
              "      border-bottom-color: var(--fill-color);\n",
              "      border-left-color: var(--fill-color);\n",
              "    }\n",
              "    20% {\n",
              "      border-color: transparent;\n",
              "      border-left-color: var(--fill-color);\n",
              "      border-top-color: var(--fill-color);\n",
              "    }\n",
              "    30% {\n",
              "      border-color: transparent;\n",
              "      border-left-color: var(--fill-color);\n",
              "      border-top-color: var(--fill-color);\n",
              "      border-right-color: var(--fill-color);\n",
              "    }\n",
              "    40% {\n",
              "      border-color: transparent;\n",
              "      border-right-color: var(--fill-color);\n",
              "      border-top-color: var(--fill-color);\n",
              "    }\n",
              "    60% {\n",
              "      border-color: transparent;\n",
              "      border-right-color: var(--fill-color);\n",
              "    }\n",
              "    80% {\n",
              "      border-color: transparent;\n",
              "      border-right-color: var(--fill-color);\n",
              "      border-bottom-color: var(--fill-color);\n",
              "    }\n",
              "    90% {\n",
              "      border-color: transparent;\n",
              "      border-bottom-color: var(--fill-color);\n",
              "    }\n",
              "  }\n",
              "</style>\n",
              "\n",
              "  <script>\n",
              "    async function quickchart(key) {\n",
              "      const quickchartButtonEl =\n",
              "        document.querySelector('#' + key + ' button');\n",
              "      quickchartButtonEl.disabled = true;  // To prevent multiple clicks.\n",
              "      quickchartButtonEl.classList.add('colab-df-spinner');\n",
              "      try {\n",
              "        const charts = await google.colab.kernel.invokeFunction(\n",
              "            'suggestCharts', [key], {});\n",
              "      } catch (error) {\n",
              "        console.error('Error during call to suggestCharts:', error);\n",
              "      }\n",
              "      quickchartButtonEl.classList.remove('colab-df-spinner');\n",
              "      quickchartButtonEl.classList.add('colab-df-quickchart-complete');\n",
              "    }\n",
              "    (() => {\n",
              "      let quickchartButtonEl =\n",
              "        document.querySelector('#df-1e530857-0929-4d18-8f38-30607c7c60e3 button');\n",
              "      quickchartButtonEl.style.display =\n",
              "        google.colab.kernel.accessAllowed ? 'block' : 'none';\n",
              "    })();\n",
              "  </script>\n",
              "</div>\n",
              "    </div>\n",
              "  </div>\n"
            ]
          },
          "metadata": {},
          "execution_count": 42
        }
      ]
    }
  ]
}